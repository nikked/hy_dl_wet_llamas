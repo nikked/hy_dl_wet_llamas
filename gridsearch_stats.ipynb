{
 "cells": [
  {
   "cell_type": "code",
   "execution_count": 14,
   "metadata": {},
   "outputs": [],
   "source": [
    "%matplotlib inline\n",
    "\n",
    "import json\n",
    "import matplotlib.pyplot as plt\n",
    "import numpy as np\n",
    "from pprint import pprint\n",
    "import pandas as pd\n",
    "from datetime import datetime\n"
   ]
  },
  {
   "cell_type": "code",
   "execution_count": 58,
   "metadata": {},
   "outputs": [],
   "source": [
    "# filepath = 'model_stats_hyperopt_181214.json'\n",
    "# filepath = './model_stats_hyperopt_ARTTU_CNN_181214.json'\n",
    "# filepath = './model_stats_hyperopt_181215_optimized.json'\n",
    "# filepath = './log_jsons/model_stats_hyperopt_CRNN2.json'\n",
    "filepath = './log_jsons/modelstats_20181219.json'\n",
    "\n",
    "\n",
    "\n",
    "with open(filepath, 'r') as file:\n",
    "    model_stats = json.load(file)"
   ]
  },
  {
   "cell_type": "code",
   "execution_count": 59,
   "metadata": {},
   "outputs": [
    {
     "data": {
      "text/plain": [
       "107"
      ]
     },
     "execution_count": 59,
     "metadata": {},
     "output_type": "execute_result"
    }
   ],
   "source": [
    "len(model_stats)"
   ]
  },
  {
   "cell_type": "code",
   "execution_count": 60,
   "metadata": {},
   "outputs": [],
   "source": [
    "df =  pd.DataFrame(model_stats).transpose()"
   ]
  },
  {
   "cell_type": "code",
   "execution_count": 61,
   "metadata": {},
   "outputs": [],
   "source": [
    "date_format = '%Y-%m-%d %H:%M:%S.%f'\n",
    "\n",
    "def date_dist_as_sec(start, end):\n",
    "    date_format = '%Y-%m-%d %H:%M:%S.%f'\n",
    "    start_dt= datetime.strptime(start, date_format)\n",
    "    end_dt= datetime.strptime(end, date_format)\n",
    "    diff = end_dt -start_dt\n",
    "    return diff.seconds\n",
    "\n",
    "def lowest_loss(loss_vector):\n",
    "    if isinstance(loss_vector, list):\n",
    "        return min(loss_vector)\n",
    "    return None\n",
    "\n",
    "df['train_duration_seconds'] = df.apply(lambda row: date_dist_as_sec(row['train_start'], row['train_finish'])  , axis=1)\n",
    "df['lowest_loss_test'] = df.apply(lambda row: lowest_loss(row['test_vector']) , axis=1)\n",
    "df['lowest_loss_valid'] = df.apply(lambda row: lowest_loss(row['valid_vector']) , axis=1)\n",
    "\n"
   ]
  },
  {
   "cell_type": "code",
   "execution_count": 64,
   "metadata": {},
   "outputs": [
    {
     "data": {
      "text/plain": [
       "Index(['batch_norm', 'batch_size', 'bottleneck_fc_dim', 'dropout_pctg',\n",
       "       'epochs', 'f1_scores', 'filter_sizes', 'glove_dim', 'model',\n",
       "       'num_filters', 'num_workers', 'pAtK_scores', 'rnn_bidirectional',\n",
       "       'rnn_hidden_size', 'rnn_num_layers', 'test_vector', 'train_finish',\n",
       "       'train_start', 'train_vector', 'txt_length', 'valid_vector',\n",
       "       'train_duration_seconds', 'lowest_loss_test', 'lowest_loss_valid'],\n",
       "      dtype='object')"
      ]
     },
     "execution_count": 64,
     "metadata": {},
     "output_type": "execute_result"
    }
   ],
   "source": [
    "df.columns"
   ]
  },
  {
   "cell_type": "code",
   "execution_count": 65,
   "metadata": {},
   "outputs": [],
   "source": [
    "\n",
    "relevant_df = df[[\n",
    "    'lowest_loss_valid',\n",
    "    'lowest_loss_test',\n",
    "    'rnn_bidirectional',\n",
    "    'rnn_hidden_size',\n",
    "    'rnn_num_layers',\n",
    "    'glove_dim',\n",
    "    'num_filters',\n",
    "    'dropout_pctg',\n",
    "    'filter_sizes',\n",
    "    'bottleneck_fc_dim',\n",
    "    'batch_norm',\n",
    "    'txt_length',\n",
    "#     'stride',\n",
    "    'train_duration_seconds',\n",
    "]]\n"
   ]
  },
  {
   "cell_type": "code",
   "execution_count": 66,
   "metadata": {},
   "outputs": [
    {
     "data": {
      "text/html": [
       "<div>\n",
       "<style scoped>\n",
       "    .dataframe tbody tr th:only-of-type {\n",
       "        vertical-align: middle;\n",
       "    }\n",
       "\n",
       "    .dataframe tbody tr th {\n",
       "        vertical-align: top;\n",
       "    }\n",
       "\n",
       "    .dataframe thead th {\n",
       "        text-align: right;\n",
       "    }\n",
       "</style>\n",
       "<table border=\"1\" class=\"dataframe\">\n",
       "  <thead>\n",
       "    <tr style=\"text-align: right;\">\n",
       "      <th></th>\n",
       "      <th>lowest_loss_valid</th>\n",
       "      <th>lowest_loss_test</th>\n",
       "      <th>rnn_bidirectional</th>\n",
       "      <th>rnn_hidden_size</th>\n",
       "      <th>rnn_num_layers</th>\n",
       "      <th>glove_dim</th>\n",
       "      <th>num_filters</th>\n",
       "      <th>dropout_pctg</th>\n",
       "      <th>filter_sizes</th>\n",
       "      <th>bottleneck_fc_dim</th>\n",
       "      <th>batch_norm</th>\n",
       "      <th>txt_length</th>\n",
       "      <th>train_duration_seconds</th>\n",
       "    </tr>\n",
       "  </thead>\n",
       "  <tbody>\n",
       "    <tr>\n",
       "      <th>{\"batch_norm\": true, \"bottleneck_fc_dim\": 452.0, \"cpu_mode\": false, \"dropout_pctg\": 0.010201928764357104, \"filter_sizes\": [1, 2, 3], \"glove_dim\": 100, \"gpu_no\": 1, \"num_filters\": 970.0, \"rnn_bidirectional\": true, \"rnn_hidden_size\": 49.0, \"rnn_num_layers\": 3.0, \"stride\": 1, \"txt_length\": 552.0}</th>\n",
       "      <td>0.016153</td>\n",
       "      <td>0.016126</td>\n",
       "      <td>True</td>\n",
       "      <td>49</td>\n",
       "      <td>3</td>\n",
       "      <td>100</td>\n",
       "      <td>970</td>\n",
       "      <td>0.01</td>\n",
       "      <td>[1, 2, 3]</td>\n",
       "      <td>452</td>\n",
       "      <td>True</td>\n",
       "      <td>552</td>\n",
       "      <td>2320</td>\n",
       "    </tr>\n",
       "    <tr>\n",
       "      <th>{\"batch_norm\": true, \"bottleneck_fc_dim\": 453.0, \"cpu_mode\": false, \"dropout_pctg\": 0.017026967344680007, \"filter_sizes\": [1, 2, 3, 4, 5], \"glove_dim\": 100, \"gpu_no\": 1, \"num_filters\": 1099.0, \"rnn_bidirectional\": true, \"rnn_hidden_size\": 49.0, \"rnn_num_layers\": 3.0, \"stride\": 1, \"txt_length\": 557.0}</th>\n",
       "      <td>0.016336</td>\n",
       "      <td>0.016233</td>\n",
       "      <td>True</td>\n",
       "      <td>49</td>\n",
       "      <td>3</td>\n",
       "      <td>100</td>\n",
       "      <td>1099</td>\n",
       "      <td>0.02</td>\n",
       "      <td>[1, 2, 3, 4, 5]</td>\n",
       "      <td>453</td>\n",
       "      <td>True</td>\n",
       "      <td>557</td>\n",
       "      <td>3125</td>\n",
       "    </tr>\n",
       "    <tr>\n",
       "      <th>{\"batch_norm\": true, \"bottleneck_fc_dim\": 465.0, \"cpu_mode\": false, \"dropout_pctg\": 0.1541336565426926, \"filter_sizes\": [1, 2, 3], \"glove_dim\": 100, \"gpu_no\": 1, \"num_filters\": 874.0, \"rnn_bidirectional\": true, \"rnn_hidden_size\": 37.0, \"rnn_num_layers\": 3.0, \"stride\": 1, \"txt_length\": 540.0}</th>\n",
       "      <td>0.016417</td>\n",
       "      <td>0.016306</td>\n",
       "      <td>True</td>\n",
       "      <td>37</td>\n",
       "      <td>3</td>\n",
       "      <td>100</td>\n",
       "      <td>874</td>\n",
       "      <td>0.15</td>\n",
       "      <td>[1, 2, 3]</td>\n",
       "      <td>465</td>\n",
       "      <td>True</td>\n",
       "      <td>540</td>\n",
       "      <td>2803</td>\n",
       "    </tr>\n",
       "    <tr>\n",
       "      <th>{\"batch_norm\": true, \"bottleneck_fc_dim\": 451.0, \"cpu_mode\": false, \"dropout_pctg\": 0.016228089363445553, \"filter_sizes\": [1, 2, 3, 4, 5], \"glove_dim\": 100, \"gpu_no\": 1, \"num_filters\": 1076.0, \"rnn_bidirectional\": true, \"rnn_hidden_size\": 49.0, \"rnn_num_layers\": 3.0, \"stride\": 1, \"txt_length\": 557.0}</th>\n",
       "      <td>0.016359</td>\n",
       "      <td>0.016324</td>\n",
       "      <td>True</td>\n",
       "      <td>49</td>\n",
       "      <td>3</td>\n",
       "      <td>100</td>\n",
       "      <td>1076</td>\n",
       "      <td>0.02</td>\n",
       "      <td>[1, 2, 3, 4, 5]</td>\n",
       "      <td>451</td>\n",
       "      <td>True</td>\n",
       "      <td>557</td>\n",
       "      <td>3102</td>\n",
       "    </tr>\n",
       "    <tr>\n",
       "      <th>{\"batch_norm\": true, \"bottleneck_fc_dim\": 497.0, \"cpu_mode\": false, \"dropout_pctg\": 0.1846518204138666, \"filter_sizes\": [1, 2, 3], \"glove_dim\": 100, \"gpu_no\": 1, \"num_filters\": 927.0, \"rnn_bidirectional\": true, \"rnn_hidden_size\": 35.0, \"rnn_num_layers\": 3.0, \"stride\": 1, \"txt_length\": 520.0}</th>\n",
       "      <td>0.016368</td>\n",
       "      <td>0.016329</td>\n",
       "      <td>True</td>\n",
       "      <td>35</td>\n",
       "      <td>3</td>\n",
       "      <td>100</td>\n",
       "      <td>927</td>\n",
       "      <td>0.18</td>\n",
       "      <td>[1, 2, 3]</td>\n",
       "      <td>497</td>\n",
       "      <td>True</td>\n",
       "      <td>520</td>\n",
       "      <td>2451</td>\n",
       "    </tr>\n",
       "    <tr>\n",
       "      <th>{\"batch_norm\": true, \"bottleneck_fc_dim\": 480.0, \"cpu_mode\": false, \"dropout_pctg\": 0.17471533706807413, \"filter_sizes\": [1, 2, 3], \"glove_dim\": 100, \"gpu_no\": 1, \"num_filters\": 932.0, \"rnn_bidirectional\": true, \"rnn_hidden_size\": 31.0, \"rnn_num_layers\": 3.0, \"stride\": 1, \"txt_length\": 519.0}</th>\n",
       "      <td>0.016421</td>\n",
       "      <td>0.016370</td>\n",
       "      <td>True</td>\n",
       "      <td>31</td>\n",
       "      <td>3</td>\n",
       "      <td>100</td>\n",
       "      <td>932</td>\n",
       "      <td>0.17</td>\n",
       "      <td>[1, 2, 3]</td>\n",
       "      <td>480</td>\n",
       "      <td>True</td>\n",
       "      <td>519</td>\n",
       "      <td>2426</td>\n",
       "    </tr>\n",
       "    <tr>\n",
       "      <th>{\"batch_norm\": true, \"bottleneck_fc_dim\": 397.0, \"cpu_mode\": false, \"dropout_pctg\": 0.05210201757926661, \"filter_sizes\": [1, 2, 3, 4, 5], \"glove_dim\": 100, \"gpu_no\": 1, \"num_filters\": 1129.0, \"rnn_bidirectional\": true, \"rnn_hidden_size\": 49.0, \"rnn_num_layers\": 3.0, \"stride\": 1, \"txt_length\": 560.0}</th>\n",
       "      <td>0.016391</td>\n",
       "      <td>0.016405</td>\n",
       "      <td>True</td>\n",
       "      <td>49</td>\n",
       "      <td>3</td>\n",
       "      <td>100</td>\n",
       "      <td>1129</td>\n",
       "      <td>0.05</td>\n",
       "      <td>[1, 2, 3, 4, 5]</td>\n",
       "      <td>397</td>\n",
       "      <td>True</td>\n",
       "      <td>560</td>\n",
       "      <td>3667</td>\n",
       "    </tr>\n",
       "    <tr>\n",
       "      <th>{\"batch_norm\": true, \"bottleneck_fc_dim\": 443.0, \"cpu_mode\": false, \"dropout_pctg\": 0.08631957683459757, \"filter_sizes\": [1, 2, 3], \"glove_dim\": 100, \"gpu_no\": 0, \"num_filters\": 958.0, \"rnn_bidirectional\": true, \"rnn_hidden_size\": 46.0, \"rnn_num_layers\": 1.0, \"stride\": 1, \"txt_length\": 628.0}</th>\n",
       "      <td>0.016504</td>\n",
       "      <td>0.016408</td>\n",
       "      <td>True</td>\n",
       "      <td>46</td>\n",
       "      <td>1</td>\n",
       "      <td>100</td>\n",
       "      <td>958</td>\n",
       "      <td>0.09</td>\n",
       "      <td>[1, 2, 3]</td>\n",
       "      <td>443</td>\n",
       "      <td>True</td>\n",
       "      <td>628</td>\n",
       "      <td>1675</td>\n",
       "    </tr>\n",
       "    <tr>\n",
       "      <th>{\"batch_norm\": true, \"bottleneck_fc_dim\": 498.0, \"cpu_mode\": false, \"dropout_pctg\": 0.2368684752981514, \"filter_sizes\": [1, 2, 3], \"glove_dim\": 100, \"gpu_no\": 1, \"num_filters\": 875.0, \"rnn_bidirectional\": true, \"rnn_hidden_size\": 38.0, \"rnn_num_layers\": 3.0, \"stride\": 1, \"txt_length\": 544.0}</th>\n",
       "      <td>0.016574</td>\n",
       "      <td>0.016419</td>\n",
       "      <td>True</td>\n",
       "      <td>38</td>\n",
       "      <td>3</td>\n",
       "      <td>100</td>\n",
       "      <td>875</td>\n",
       "      <td>0.24</td>\n",
       "      <td>[1, 2, 3]</td>\n",
       "      <td>498</td>\n",
       "      <td>True</td>\n",
       "      <td>544</td>\n",
       "      <td>2795</td>\n",
       "    </tr>\n",
       "    <tr>\n",
       "      <th>{\"batch_norm\": true, \"bottleneck_fc_dim\": 372.0, \"cpu_mode\": false, \"dropout_pctg\": 0.04738006035522013, \"filter_sizes\": [1, 2, 3, 4, 5], \"glove_dim\": 100, \"gpu_no\": 1, \"num_filters\": 1121.0, \"rnn_bidirectional\": true, \"rnn_hidden_size\": 41.0, \"rnn_num_layers\": 3.0, \"stride\": 1, \"txt_length\": 699.0}</th>\n",
       "      <td>0.016471</td>\n",
       "      <td>0.016437</td>\n",
       "      <td>True</td>\n",
       "      <td>41</td>\n",
       "      <td>3</td>\n",
       "      <td>100</td>\n",
       "      <td>1121</td>\n",
       "      <td>0.05</td>\n",
       "      <td>[1, 2, 3, 4, 5]</td>\n",
       "      <td>372</td>\n",
       "      <td>True</td>\n",
       "      <td>699</td>\n",
       "      <td>3920</td>\n",
       "    </tr>\n",
       "  </tbody>\n",
       "</table>\n",
       "</div>"
      ],
      "text/plain": [
       "                                                    lowest_loss_valid  \\\n",
       "{\"batch_norm\": true, \"bottleneck_fc_dim\": 452.0...           0.016153   \n",
       "{\"batch_norm\": true, \"bottleneck_fc_dim\": 453.0...           0.016336   \n",
       "{\"batch_norm\": true, \"bottleneck_fc_dim\": 465.0...           0.016417   \n",
       "{\"batch_norm\": true, \"bottleneck_fc_dim\": 451.0...           0.016359   \n",
       "{\"batch_norm\": true, \"bottleneck_fc_dim\": 497.0...           0.016368   \n",
       "{\"batch_norm\": true, \"bottleneck_fc_dim\": 480.0...           0.016421   \n",
       "{\"batch_norm\": true, \"bottleneck_fc_dim\": 397.0...           0.016391   \n",
       "{\"batch_norm\": true, \"bottleneck_fc_dim\": 443.0...           0.016504   \n",
       "{\"batch_norm\": true, \"bottleneck_fc_dim\": 498.0...           0.016574   \n",
       "{\"batch_norm\": true, \"bottleneck_fc_dim\": 372.0...           0.016471   \n",
       "\n",
       "                                                    lowest_loss_test  \\\n",
       "{\"batch_norm\": true, \"bottleneck_fc_dim\": 452.0...          0.016126   \n",
       "{\"batch_norm\": true, \"bottleneck_fc_dim\": 453.0...          0.016233   \n",
       "{\"batch_norm\": true, \"bottleneck_fc_dim\": 465.0...          0.016306   \n",
       "{\"batch_norm\": true, \"bottleneck_fc_dim\": 451.0...          0.016324   \n",
       "{\"batch_norm\": true, \"bottleneck_fc_dim\": 497.0...          0.016329   \n",
       "{\"batch_norm\": true, \"bottleneck_fc_dim\": 480.0...          0.016370   \n",
       "{\"batch_norm\": true, \"bottleneck_fc_dim\": 397.0...          0.016405   \n",
       "{\"batch_norm\": true, \"bottleneck_fc_dim\": 443.0...          0.016408   \n",
       "{\"batch_norm\": true, \"bottleneck_fc_dim\": 498.0...          0.016419   \n",
       "{\"batch_norm\": true, \"bottleneck_fc_dim\": 372.0...          0.016437   \n",
       "\n",
       "                                                   rnn_bidirectional  \\\n",
       "{\"batch_norm\": true, \"bottleneck_fc_dim\": 452.0...              True   \n",
       "{\"batch_norm\": true, \"bottleneck_fc_dim\": 453.0...              True   \n",
       "{\"batch_norm\": true, \"bottleneck_fc_dim\": 465.0...              True   \n",
       "{\"batch_norm\": true, \"bottleneck_fc_dim\": 451.0...              True   \n",
       "{\"batch_norm\": true, \"bottleneck_fc_dim\": 497.0...              True   \n",
       "{\"batch_norm\": true, \"bottleneck_fc_dim\": 480.0...              True   \n",
       "{\"batch_norm\": true, \"bottleneck_fc_dim\": 397.0...              True   \n",
       "{\"batch_norm\": true, \"bottleneck_fc_dim\": 443.0...              True   \n",
       "{\"batch_norm\": true, \"bottleneck_fc_dim\": 498.0...              True   \n",
       "{\"batch_norm\": true, \"bottleneck_fc_dim\": 372.0...              True   \n",
       "\n",
       "                                                   rnn_hidden_size  \\\n",
       "{\"batch_norm\": true, \"bottleneck_fc_dim\": 452.0...              49   \n",
       "{\"batch_norm\": true, \"bottleneck_fc_dim\": 453.0...              49   \n",
       "{\"batch_norm\": true, \"bottleneck_fc_dim\": 465.0...              37   \n",
       "{\"batch_norm\": true, \"bottleneck_fc_dim\": 451.0...              49   \n",
       "{\"batch_norm\": true, \"bottleneck_fc_dim\": 497.0...              35   \n",
       "{\"batch_norm\": true, \"bottleneck_fc_dim\": 480.0...              31   \n",
       "{\"batch_norm\": true, \"bottleneck_fc_dim\": 397.0...              49   \n",
       "{\"batch_norm\": true, \"bottleneck_fc_dim\": 443.0...              46   \n",
       "{\"batch_norm\": true, \"bottleneck_fc_dim\": 498.0...              38   \n",
       "{\"batch_norm\": true, \"bottleneck_fc_dim\": 372.0...              41   \n",
       "\n",
       "                                                   rnn_num_layers glove_dim  \\\n",
       "{\"batch_norm\": true, \"bottleneck_fc_dim\": 452.0...              3       100   \n",
       "{\"batch_norm\": true, \"bottleneck_fc_dim\": 453.0...              3       100   \n",
       "{\"batch_norm\": true, \"bottleneck_fc_dim\": 465.0...              3       100   \n",
       "{\"batch_norm\": true, \"bottleneck_fc_dim\": 451.0...              3       100   \n",
       "{\"batch_norm\": true, \"bottleneck_fc_dim\": 497.0...              3       100   \n",
       "{\"batch_norm\": true, \"bottleneck_fc_dim\": 480.0...              3       100   \n",
       "{\"batch_norm\": true, \"bottleneck_fc_dim\": 397.0...              3       100   \n",
       "{\"batch_norm\": true, \"bottleneck_fc_dim\": 443.0...              1       100   \n",
       "{\"batch_norm\": true, \"bottleneck_fc_dim\": 498.0...              3       100   \n",
       "{\"batch_norm\": true, \"bottleneck_fc_dim\": 372.0...              3       100   \n",
       "\n",
       "                                                   num_filters dropout_pctg  \\\n",
       "{\"batch_norm\": true, \"bottleneck_fc_dim\": 452.0...         970         0.01   \n",
       "{\"batch_norm\": true, \"bottleneck_fc_dim\": 453.0...        1099         0.02   \n",
       "{\"batch_norm\": true, \"bottleneck_fc_dim\": 465.0...         874         0.15   \n",
       "{\"batch_norm\": true, \"bottleneck_fc_dim\": 451.0...        1076         0.02   \n",
       "{\"batch_norm\": true, \"bottleneck_fc_dim\": 497.0...         927         0.18   \n",
       "{\"batch_norm\": true, \"bottleneck_fc_dim\": 480.0...         932         0.17   \n",
       "{\"batch_norm\": true, \"bottleneck_fc_dim\": 397.0...        1129         0.05   \n",
       "{\"batch_norm\": true, \"bottleneck_fc_dim\": 443.0...         958         0.09   \n",
       "{\"batch_norm\": true, \"bottleneck_fc_dim\": 498.0...         875         0.24   \n",
       "{\"batch_norm\": true, \"bottleneck_fc_dim\": 372.0...        1121         0.05   \n",
       "\n",
       "                                                       filter_sizes  \\\n",
       "{\"batch_norm\": true, \"bottleneck_fc_dim\": 452.0...        [1, 2, 3]   \n",
       "{\"batch_norm\": true, \"bottleneck_fc_dim\": 453.0...  [1, 2, 3, 4, 5]   \n",
       "{\"batch_norm\": true, \"bottleneck_fc_dim\": 465.0...        [1, 2, 3]   \n",
       "{\"batch_norm\": true, \"bottleneck_fc_dim\": 451.0...  [1, 2, 3, 4, 5]   \n",
       "{\"batch_norm\": true, \"bottleneck_fc_dim\": 497.0...        [1, 2, 3]   \n",
       "{\"batch_norm\": true, \"bottleneck_fc_dim\": 480.0...        [1, 2, 3]   \n",
       "{\"batch_norm\": true, \"bottleneck_fc_dim\": 397.0...  [1, 2, 3, 4, 5]   \n",
       "{\"batch_norm\": true, \"bottleneck_fc_dim\": 443.0...        [1, 2, 3]   \n",
       "{\"batch_norm\": true, \"bottleneck_fc_dim\": 498.0...        [1, 2, 3]   \n",
       "{\"batch_norm\": true, \"bottleneck_fc_dim\": 372.0...  [1, 2, 3, 4, 5]   \n",
       "\n",
       "                                                   bottleneck_fc_dim  \\\n",
       "{\"batch_norm\": true, \"bottleneck_fc_dim\": 452.0...               452   \n",
       "{\"batch_norm\": true, \"bottleneck_fc_dim\": 453.0...               453   \n",
       "{\"batch_norm\": true, \"bottleneck_fc_dim\": 465.0...               465   \n",
       "{\"batch_norm\": true, \"bottleneck_fc_dim\": 451.0...               451   \n",
       "{\"batch_norm\": true, \"bottleneck_fc_dim\": 497.0...               497   \n",
       "{\"batch_norm\": true, \"bottleneck_fc_dim\": 480.0...               480   \n",
       "{\"batch_norm\": true, \"bottleneck_fc_dim\": 397.0...               397   \n",
       "{\"batch_norm\": true, \"bottleneck_fc_dim\": 443.0...               443   \n",
       "{\"batch_norm\": true, \"bottleneck_fc_dim\": 498.0...               498   \n",
       "{\"batch_norm\": true, \"bottleneck_fc_dim\": 372.0...               372   \n",
       "\n",
       "                                                   batch_norm txt_length  \\\n",
       "{\"batch_norm\": true, \"bottleneck_fc_dim\": 452.0...       True        552   \n",
       "{\"batch_norm\": true, \"bottleneck_fc_dim\": 453.0...       True        557   \n",
       "{\"batch_norm\": true, \"bottleneck_fc_dim\": 465.0...       True        540   \n",
       "{\"batch_norm\": true, \"bottleneck_fc_dim\": 451.0...       True        557   \n",
       "{\"batch_norm\": true, \"bottleneck_fc_dim\": 497.0...       True        520   \n",
       "{\"batch_norm\": true, \"bottleneck_fc_dim\": 480.0...       True        519   \n",
       "{\"batch_norm\": true, \"bottleneck_fc_dim\": 397.0...       True        560   \n",
       "{\"batch_norm\": true, \"bottleneck_fc_dim\": 443.0...       True        628   \n",
       "{\"batch_norm\": true, \"bottleneck_fc_dim\": 498.0...       True        544   \n",
       "{\"batch_norm\": true, \"bottleneck_fc_dim\": 372.0...       True        699   \n",
       "\n",
       "                                                    train_duration_seconds  \n",
       "{\"batch_norm\": true, \"bottleneck_fc_dim\": 452.0...                    2320  \n",
       "{\"batch_norm\": true, \"bottleneck_fc_dim\": 453.0...                    3125  \n",
       "{\"batch_norm\": true, \"bottleneck_fc_dim\": 465.0...                    2803  \n",
       "{\"batch_norm\": true, \"bottleneck_fc_dim\": 451.0...                    3102  \n",
       "{\"batch_norm\": true, \"bottleneck_fc_dim\": 497.0...                    2451  \n",
       "{\"batch_norm\": true, \"bottleneck_fc_dim\": 480.0...                    2426  \n",
       "{\"batch_norm\": true, \"bottleneck_fc_dim\": 397.0...                    3667  \n",
       "{\"batch_norm\": true, \"bottleneck_fc_dim\": 443.0...                    1675  \n",
       "{\"batch_norm\": true, \"bottleneck_fc_dim\": 498.0...                    2795  \n",
       "{\"batch_norm\": true, \"bottleneck_fc_dim\": 372.0...                    3920  "
      ]
     },
     "execution_count": 66,
     "metadata": {},
     "output_type": "execute_result"
    }
   ],
   "source": [
    "relevant_df.sort_values(by=['lowest_loss_test']).head(10)"
   ]
  },
  {
   "cell_type": "code",
   "execution_count": 50,
   "metadata": {},
   "outputs": [
    {
     "ename": "KeyError",
     "evalue": "'n_flt:100, btl_dim:10, glove:50,flt_sz:[1, 3, 5],bn:False,dd_pctg:0.5'",
     "output_type": "error",
     "traceback": [
      "\u001b[0;31m---------------------------------------------------------------------------\u001b[0m",
      "\u001b[0;31mKeyError\u001b[0m                                  Traceback (most recent call last)",
      "\u001b[0;32m<ipython-input-50-cb845c2ea431>\u001b[0m in \u001b[0;36m<module>\u001b[0;34m()\u001b[0m\n\u001b[0;32m----> 1\u001b[0;31m \u001b[0mmodel_stats\u001b[0m\u001b[0;34m[\u001b[0m\u001b[0;34m'n_flt:100, btl_dim:10, glove:50,flt_sz:[1, 3, 5],bn:False,dd_pctg:0.5'\u001b[0m\u001b[0;34m]\u001b[0m\u001b[0;34m\u001b[0m\u001b[0m\n\u001b[0m\u001b[1;32m      2\u001b[0m \u001b[0;34m\u001b[0m\u001b[0m\n\u001b[1;32m      3\u001b[0m \u001b[0mmost_overfitting_model\u001b[0m \u001b[0;34m=\u001b[0m \u001b[0;32mNone\u001b[0m\u001b[0;34m\u001b[0m\u001b[0m\n\u001b[1;32m      4\u001b[0m \u001b[0moverfit_score\u001b[0m \u001b[0;34m=\u001b[0m \u001b[0;36m0\u001b[0m\u001b[0;34m\u001b[0m\u001b[0m\n\u001b[1;32m      5\u001b[0m \u001b[0;32mfor\u001b[0m \u001b[0mkey\u001b[0m\u001b[0;34m,\u001b[0m \u001b[0mmdl\u001b[0m \u001b[0;32min\u001b[0m \u001b[0mmodel_stats\u001b[0m\u001b[0;34m.\u001b[0m\u001b[0mitems\u001b[0m\u001b[0;34m(\u001b[0m\u001b[0;34m)\u001b[0m\u001b[0;34m:\u001b[0m\u001b[0;34m\u001b[0m\u001b[0m\n",
      "\u001b[0;31mKeyError\u001b[0m: 'n_flt:100, btl_dim:10, glove:50,flt_sz:[1, 3, 5],bn:False,dd_pctg:0.5'"
     ]
    }
   ],
   "source": [
    "model_stats['n_flt:100, btl_dim:10, glove:50,flt_sz:[1, 3, 5],bn:False,dd_pctg:0.5']\n",
    "\n",
    "most_overfitting_model = None\n",
    "overfit_score = 0\n",
    "for key, mdl in model_stats.items():\n",
    "    diff = mdl['loss_vector'][-1] - mdl['train_vector'][-1]\n",
    "    if diff > overfit_score:\n",
    "        overfit_score = diff\n",
    "        most_overfitting_model = key"
   ]
  },
  {
   "cell_type": "code",
   "execution_count": 51,
   "metadata": {},
   "outputs": [
    {
     "ename": "NameError",
     "evalue": "name 'most_overfitting_model' is not defined",
     "output_type": "error",
     "traceback": [
      "\u001b[0;31m---------------------------------------------------------------------------\u001b[0m",
      "\u001b[0;31mNameError\u001b[0m                                 Traceback (most recent call last)",
      "\u001b[0;32m<ipython-input-51-f90fd5f82277>\u001b[0m in \u001b[0;36m<module>\u001b[0;34m()\u001b[0m\n\u001b[0;32m----> 1\u001b[0;31m \u001b[0moverfitting\u001b[0m \u001b[0;34m=\u001b[0m \u001b[0mmodel_stats\u001b[0m\u001b[0;34m[\u001b[0m\u001b[0mmost_overfitting_model\u001b[0m\u001b[0;34m]\u001b[0m\u001b[0;34m\u001b[0m\u001b[0m\n\u001b[0m\u001b[1;32m      2\u001b[0m \u001b[0;34m\u001b[0m\u001b[0m\n\u001b[1;32m      3\u001b[0m \u001b[0;34m\u001b[0m\u001b[0m\n\u001b[1;32m      4\u001b[0m \u001b[0mplt\u001b[0m\u001b[0;34m.\u001b[0m\u001b[0mfigure\u001b[0m\u001b[0;34m(\u001b[0m\u001b[0mfigsize\u001b[0m\u001b[0;34m=\u001b[0m\u001b[0;34m(\u001b[0m\u001b[0;36m12\u001b[0m\u001b[0;34m,\u001b[0m \u001b[0;36m10\u001b[0m\u001b[0;34m)\u001b[0m\u001b[0;34m)\u001b[0m\u001b[0;34m\u001b[0m\u001b[0m\n\u001b[1;32m      5\u001b[0m \u001b[0;34m\u001b[0m\u001b[0m\n",
      "\u001b[0;31mNameError\u001b[0m: name 'most_overfitting_model' is not defined"
     ]
    }
   ],
   "source": [
    "overfitting = model_stats[most_overfitting_model]\n",
    "\n",
    "\n",
    "plt.figure(figsize=(12, 10))\n",
    "\n",
    "lossv = overfitting['loss_vector']\n",
    "trainv = overfitting['train_vector']\n",
    "plt.plot(np.arange(1, len(lossv) + 1), lossv, label='loss_vector')\n",
    "plt.plot(np.arange(1, len(trainv) + 1), trainv, label='train_vector')\n",
    "\n",
    "plt.legend(bbox_to_anchor=(1.05, 1), loc=2, borderaxespad=0.)\n",
    "plt.title('loss vs epoch')"
   ]
  },
  {
   "cell_type": "code",
   "execution_count": 17,
   "metadata": {},
   "outputs": [
    {
     "data": {
      "text/plain": [
       "338.3095238095238"
      ]
     },
     "execution_count": 17,
     "metadata": {},
     "output_type": "execute_result"
    }
   ],
   "source": [
    "relevant_df['train_duration_seconds'].mean()\n",
    "\n"
   ]
  },
  {
   "cell_type": "code",
   "execution_count": 18,
   "metadata": {},
   "outputs": [
    {
     "data": {
      "text/plain": [
       "30420"
      ]
     },
     "execution_count": 18,
     "metadata": {},
     "output_type": "execute_result"
    }
   ],
   "source": [
    "338 * 90"
   ]
  },
  {
   "cell_type": "code",
   "execution_count": 19,
   "metadata": {},
   "outputs": [
    {
     "data": {
      "text/plain": [
       "10140.0"
      ]
     },
     "execution_count": 19,
     "metadata": {},
     "output_type": "execute_result"
    }
   ],
   "source": [
    "30420/3"
   ]
  },
  {
   "cell_type": "code",
   "execution_count": 20,
   "metadata": {},
   "outputs": [
    {
     "data": {
      "text/plain": [
       "169.0"
      ]
     },
     "execution_count": 20,
     "metadata": {},
     "output_type": "execute_result"
    }
   ],
   "source": [
    "10140 / 60"
   ]
  },
  {
   "cell_type": "code",
   "execution_count": null,
   "metadata": {},
   "outputs": [],
   "source": [
    "1"
   ]
  }
 ],
 "metadata": {
  "kernelspec": {
   "display_name": "py3env",
   "language": "python",
   "name": "py3env"
  },
  "language_info": {
   "codemirror_mode": {
    "name": "ipython",
    "version": 3
   },
   "file_extension": ".py",
   "mimetype": "text/x-python",
   "name": "python",
   "nbconvert_exporter": "python",
   "pygments_lexer": "ipython3",
   "version": "3.6.2"
  }
 },
 "nbformat": 4,
 "nbformat_minor": 2
}
