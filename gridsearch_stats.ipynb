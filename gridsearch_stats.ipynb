{
 "cells": [
  {
   "cell_type": "markdown",
   "metadata": {},
   "source": [
    "## maybe add to gridsearch?\n",
    "\n",
    "max_txt_len\n",
    "learning rate"
   ]
  },
  {
   "cell_type": "code",
   "execution_count": 49,
   "metadata": {},
   "outputs": [],
   "source": [
    "%matplotlib inline\n",
    "\n",
    "import json\n",
    "import matplotlib.pyplot as plt\n",
    "import numpy as np\n",
    "from pprint import pprint\n",
    "import pandas as pd\n",
    "from datetime import datetime\n"
   ]
  },
  {
   "cell_type": "code",
   "execution_count": 50,
   "metadata": {},
   "outputs": [],
   "source": [
    "filepath = './model_stats.json'\n",
    "\n",
    "\n",
    "with open(filepath, 'r') as file:\n",
    "    model_stats = json.load(file)"
   ]
  },
  {
   "cell_type": "code",
   "execution_count": 51,
   "metadata": {
    "scrolled": false
   },
   "outputs": [
    {
     "name": "stdout",
     "output_type": "stream",
     "text": [
      "{'batch_norm': True,\n",
      " 'batch_size': 512,\n",
      " 'bottleneck_fc_dim': 100,\n",
      " 'dropout_pctg': 0.0,\n",
      " 'epochs': 10,\n",
      " 'f1_scores': {'f1_score_2': 0.711202914913271,\n",
      "               'f1_score_3': 0.8056600220590214,\n",
      "               'f1_score_4': 0.7594258763354675},\n",
      " 'filter_sizes': [1, 3, 5],\n",
      " 'glove_dim': 100,\n",
      " 'loss_vector': [0.028235349267468613,\n",
      "                 0.022836775092755335,\n",
      "                 0.021072113097219142,\n",
      "                 0.020296066778443627,\n",
      "                 0.019687952915743247,\n",
      "                 0.01989102401470734,\n",
      "                 0.019142538609014728,\n",
      "                 0.01944774376638865,\n",
      "                 0.019426475500024982,\n",
      "                 0.019136379583407255],\n",
      " 'max_txt_len': 500,\n",
      " 'model': 'Model(\\n'\n",
      "          '  (embedding): Embedding(400000, 100)\\n'\n",
      "          '  (conv1): Conv2d(1, 300, kernel_size=(1, 100), stride=(1, 1))\\n'\n",
      "          '  (bn1): BatchNorm2d(300, eps=1e-05, momentum=0.1, affine=True, '\n",
      "          'track_running_stats=True)\\n'\n",
      "          '  (conv2): Conv2d(1, 300, kernel_size=(3, 100), stride=(1, 1))\\n'\n",
      "          '  (bn2): BatchNorm2d(300, eps=1e-05, momentum=0.1, affine=True, '\n",
      "          'track_running_stats=True)\\n'\n",
      "          '  (conv3): Conv2d(1, 300, kernel_size=(5, 100), stride=(1, 1))\\n'\n",
      "          '  (bn3): BatchNorm2d(300, eps=1e-05, momentum=0.1, affine=True, '\n",
      "          'track_running_stats=True)\\n'\n",
      "          '  (fc1): Linear(in_features=900, out_features=100, bias=True)\\n'\n",
      "          '  (fc2): Linear(in_features=100, out_features=126, bias=True)\\n'\n",
      "          '  (dropout): Dropout(p=0.0)\\n'\n",
      "          ')',\n",
      " 'num_filters': 300,\n",
      " 'num_workers': 15,\n",
      " 'pAtK_scores': {'pAtK_1': 0.9584878177966102,\n",
      "                 'pAtK_3': 0.8261829096045198,\n",
      "                 'pAtK_5': 0.5721994173728814},\n",
      " 'train_error_message': '',\n",
      " 'train_finish': '2018-12-09 23:42:04.716765',\n",
      " 'train_start': '2018-12-09 23:32:06.454685',\n",
      " 'train_vector': [0.05112865568267666,\n",
      "                  0.02496613713734177,\n",
      "                  0.021290878498435473,\n",
      "                  0.019412350950433928,\n",
      "                  0.018092345626604174,\n",
      "                  0.017124932123245618,\n",
      "                  0.016401241929314508,\n",
      "                  0.015687096399207383,\n",
      "                  0.015081818455890302,\n",
      "                  0.014562052284036913]}\n"
     ]
    }
   ],
   "source": [
    "max_f1_score = 0\n",
    "best_model = None\n",
    "\n",
    "for model in model_stats.keys():\n",
    "    f1 = model_stats[model]['f1_scores']['f1_score_3']\n",
    "    if f1> max_f1_score:\n",
    "        max_f1_score = f1\n",
    "        best_model = model_stats[model]\n",
    "        \n",
    "    \n",
    "pprint(best_model)"
   ]
  },
  {
   "cell_type": "code",
   "execution_count": 52,
   "metadata": {},
   "outputs": [],
   "source": [
    "df =  pd.DataFrame(model_stats).transpose()"
   ]
  },
  {
   "cell_type": "code",
   "execution_count": 53,
   "metadata": {},
   "outputs": [],
   "source": [
    "date_format = '%Y-%m-%d %H:%M:%S.%f'\n",
    "\n",
    "def date_dist_as_sec(start, end):\n",
    "    date_format = '%Y-%m-%d %H:%M:%S.%f'\n",
    "    start_dt= datetime.strptime(start, date_format)\n",
    "    end_dt= datetime.strptime(end, date_format)\n",
    "    diff = end_dt -start_dt\n",
    "    return diff.seconds\n",
    "\n",
    "\n",
    "def average_score(scores):\n",
    "    sum_scores = 0\n",
    "    for score in scores.values():\n",
    "        sum_scores += score\n",
    "        \n",
    "    return sum_scores / len(scores)\n",
    "        \n",
    "\n",
    "df['train_duration_seconds'] = df.apply(lambda row: date_dist_as_sec(row['train_start'], row['train_finish'])  , axis=1)\n",
    "df['average_f1_score'] =df.apply(lambda row: average_score(row['f1_scores'])  , axis=1)\n",
    "df['average_pAtK_score'] =df.apply(lambda row: average_score(row['pAtK_scores'])  , axis=1)\n",
    "\n"
   ]
  },
  {
   "cell_type": "code",
   "execution_count": 54,
   "metadata": {},
   "outputs": [],
   "source": [
    "relevant_df = df[['batch_norm', 'bottleneck_fc_dim', \n",
    "                  'dropout_pctg', 'filter_sizes',\n",
    "                  'glove_dim', 'num_filters', \n",
    "                  'train_duration_seconds', \n",
    "                  'average_f1_score', 'average_pAtK_score']]"
   ]
  },
  {
   "cell_type": "code",
   "execution_count": 55,
   "metadata": {},
   "outputs": [
    {
     "data": {
      "text/html": [
       "<div>\n",
       "<style scoped>\n",
       "    .dataframe tbody tr th:only-of-type {\n",
       "        vertical-align: middle;\n",
       "    }\n",
       "\n",
       "    .dataframe tbody tr th {\n",
       "        vertical-align: top;\n",
       "    }\n",
       "\n",
       "    .dataframe thead th {\n",
       "        text-align: right;\n",
       "    }\n",
       "</style>\n",
       "<table border=\"1\" class=\"dataframe\">\n",
       "  <thead>\n",
       "    <tr style=\"text-align: right;\">\n",
       "      <th></th>\n",
       "      <th>batch_norm</th>\n",
       "      <th>bottleneck_fc_dim</th>\n",
       "      <th>dropout_pctg</th>\n",
       "      <th>filter_sizes</th>\n",
       "      <th>glove_dim</th>\n",
       "      <th>num_filters</th>\n",
       "      <th>train_duration_seconds</th>\n",
       "      <th>average_f1_score</th>\n",
       "      <th>average_pAtK_score</th>\n",
       "    </tr>\n",
       "  </thead>\n",
       "  <tbody>\n",
       "    <tr>\n",
       "      <th>n_flt:300, btl_dim:100, glove:100,flt_sz:[1, 3, 5],bn:True,dd_pctg:0.0</th>\n",
       "      <td>True</td>\n",
       "      <td>100</td>\n",
       "      <td>0</td>\n",
       "      <td>[1, 3, 5]</td>\n",
       "      <td>100</td>\n",
       "      <td>300</td>\n",
       "      <td>598</td>\n",
       "      <td>0.758763</td>\n",
       "      <td>0.785623</td>\n",
       "    </tr>\n",
       "    <tr>\n",
       "      <th>n_flt:300, btl_dim:100, glove:100,flt_sz:[3, 4, 5],bn:True,dd_pctg:0.0</th>\n",
       "      <td>True</td>\n",
       "      <td>100</td>\n",
       "      <td>0</td>\n",
       "      <td>[3, 4, 5]</td>\n",
       "      <td>100</td>\n",
       "      <td>300</td>\n",
       "      <td>690</td>\n",
       "      <td>0.758185</td>\n",
       "      <td>0.785370</td>\n",
       "    </tr>\n",
       "    <tr>\n",
       "      <th>n_flt:300, btl_dim:100, glove:100,flt_sz:[1, 4, 7],bn:True,dd_pctg:0.0</th>\n",
       "      <td>True</td>\n",
       "      <td>100</td>\n",
       "      <td>0</td>\n",
       "      <td>[1, 4, 7]</td>\n",
       "      <td>100</td>\n",
       "      <td>300</td>\n",
       "      <td>680</td>\n",
       "      <td>0.757825</td>\n",
       "      <td>0.784571</td>\n",
       "    </tr>\n",
       "    <tr>\n",
       "      <th>n_flt:200, btl_dim:100, glove:100,flt_sz:[1, 4, 7],bn:True,dd_pctg:0.0</th>\n",
       "      <td>True</td>\n",
       "      <td>100</td>\n",
       "      <td>0</td>\n",
       "      <td>[1, 4, 7]</td>\n",
       "      <td>100</td>\n",
       "      <td>200</td>\n",
       "      <td>457</td>\n",
       "      <td>0.756195</td>\n",
       "      <td>0.783252</td>\n",
       "    </tr>\n",
       "    <tr>\n",
       "      <th>n_flt:300, btl_dim:100, glove:100,flt_sz:[3, 4, 5],bn:False,dd_pctg:0.0</th>\n",
       "      <td>False</td>\n",
       "      <td>100</td>\n",
       "      <td>0</td>\n",
       "      <td>[3, 4, 5]</td>\n",
       "      <td>100</td>\n",
       "      <td>300</td>\n",
       "      <td>652</td>\n",
       "      <td>0.756142</td>\n",
       "      <td>0.783070</td>\n",
       "    </tr>\n",
       "  </tbody>\n",
       "</table>\n",
       "</div>"
      ],
      "text/plain": [
       "                                                   batch_norm  \\\n",
       "n_flt:300, btl_dim:100, glove:100,flt_sz:[1, 3,...       True   \n",
       "n_flt:300, btl_dim:100, glove:100,flt_sz:[3, 4,...       True   \n",
       "n_flt:300, btl_dim:100, glove:100,flt_sz:[1, 4,...       True   \n",
       "n_flt:200, btl_dim:100, glove:100,flt_sz:[1, 4,...       True   \n",
       "n_flt:300, btl_dim:100, glove:100,flt_sz:[3, 4,...      False   \n",
       "\n",
       "                                                   bottleneck_fc_dim  \\\n",
       "n_flt:300, btl_dim:100, glove:100,flt_sz:[1, 3,...               100   \n",
       "n_flt:300, btl_dim:100, glove:100,flt_sz:[3, 4,...               100   \n",
       "n_flt:300, btl_dim:100, glove:100,flt_sz:[1, 4,...               100   \n",
       "n_flt:200, btl_dim:100, glove:100,flt_sz:[1, 4,...               100   \n",
       "n_flt:300, btl_dim:100, glove:100,flt_sz:[3, 4,...               100   \n",
       "\n",
       "                                                   dropout_pctg filter_sizes  \\\n",
       "n_flt:300, btl_dim:100, glove:100,flt_sz:[1, 3,...            0    [1, 3, 5]   \n",
       "n_flt:300, btl_dim:100, glove:100,flt_sz:[3, 4,...            0    [3, 4, 5]   \n",
       "n_flt:300, btl_dim:100, glove:100,flt_sz:[1, 4,...            0    [1, 4, 7]   \n",
       "n_flt:200, btl_dim:100, glove:100,flt_sz:[1, 4,...            0    [1, 4, 7]   \n",
       "n_flt:300, btl_dim:100, glove:100,flt_sz:[3, 4,...            0    [3, 4, 5]   \n",
       "\n",
       "                                                   glove_dim num_filters  \\\n",
       "n_flt:300, btl_dim:100, glove:100,flt_sz:[1, 3,...       100         300   \n",
       "n_flt:300, btl_dim:100, glove:100,flt_sz:[3, 4,...       100         300   \n",
       "n_flt:300, btl_dim:100, glove:100,flt_sz:[1, 4,...       100         300   \n",
       "n_flt:200, btl_dim:100, glove:100,flt_sz:[1, 4,...       100         200   \n",
       "n_flt:300, btl_dim:100, glove:100,flt_sz:[3, 4,...       100         300   \n",
       "\n",
       "                                                    train_duration_seconds  \\\n",
       "n_flt:300, btl_dim:100, glove:100,flt_sz:[1, 3,...                     598   \n",
       "n_flt:300, btl_dim:100, glove:100,flt_sz:[3, 4,...                     690   \n",
       "n_flt:300, btl_dim:100, glove:100,flt_sz:[1, 4,...                     680   \n",
       "n_flt:200, btl_dim:100, glove:100,flt_sz:[1, 4,...                     457   \n",
       "n_flt:300, btl_dim:100, glove:100,flt_sz:[3, 4,...                     652   \n",
       "\n",
       "                                                    average_f1_score  \\\n",
       "n_flt:300, btl_dim:100, glove:100,flt_sz:[1, 3,...          0.758763   \n",
       "n_flt:300, btl_dim:100, glove:100,flt_sz:[3, 4,...          0.758185   \n",
       "n_flt:300, btl_dim:100, glove:100,flt_sz:[1, 4,...          0.757825   \n",
       "n_flt:200, btl_dim:100, glove:100,flt_sz:[1, 4,...          0.756195   \n",
       "n_flt:300, btl_dim:100, glove:100,flt_sz:[3, 4,...          0.756142   \n",
       "\n",
       "                                                    average_pAtK_score  \n",
       "n_flt:300, btl_dim:100, glove:100,flt_sz:[1, 3,...            0.785623  \n",
       "n_flt:300, btl_dim:100, glove:100,flt_sz:[3, 4,...            0.785370  \n",
       "n_flt:300, btl_dim:100, glove:100,flt_sz:[1, 4,...            0.784571  \n",
       "n_flt:200, btl_dim:100, glove:100,flt_sz:[1, 4,...            0.783252  \n",
       "n_flt:300, btl_dim:100, glove:100,flt_sz:[3, 4,...            0.783070  "
      ]
     },
     "execution_count": 55,
     "metadata": {},
     "output_type": "execute_result"
    }
   ],
   "source": [
    "relevant_df.sort_values(by=['average_f1_score'], ascending=False).head()"
   ]
  },
  {
   "cell_type": "code",
   "execution_count": 56,
   "metadata": {},
   "outputs": [
    {
     "data": {
      "text/html": [
       "<div>\n",
       "<style scoped>\n",
       "    .dataframe tbody tr th:only-of-type {\n",
       "        vertical-align: middle;\n",
       "    }\n",
       "\n",
       "    .dataframe tbody tr th {\n",
       "        vertical-align: top;\n",
       "    }\n",
       "\n",
       "    .dataframe thead th {\n",
       "        text-align: right;\n",
       "    }\n",
       "</style>\n",
       "<table border=\"1\" class=\"dataframe\">\n",
       "  <thead>\n",
       "    <tr style=\"text-align: right;\">\n",
       "      <th></th>\n",
       "      <th>batch_norm</th>\n",
       "      <th>bottleneck_fc_dim</th>\n",
       "      <th>dropout_pctg</th>\n",
       "      <th>filter_sizes</th>\n",
       "      <th>glove_dim</th>\n",
       "      <th>num_filters</th>\n",
       "      <th>train_duration_seconds</th>\n",
       "      <th>average_f1_score</th>\n",
       "      <th>average_pAtK_score</th>\n",
       "    </tr>\n",
       "  </thead>\n",
       "  <tbody>\n",
       "    <tr>\n",
       "      <th>n_flt:300, btl_dim:100, glove:100,flt_sz:[1, 3, 5],bn:True,dd_pctg:0.0</th>\n",
       "      <td>True</td>\n",
       "      <td>100</td>\n",
       "      <td>0</td>\n",
       "      <td>[1, 3, 5]</td>\n",
       "      <td>100</td>\n",
       "      <td>300</td>\n",
       "      <td>598</td>\n",
       "      <td>0.758763</td>\n",
       "      <td>0.785623</td>\n",
       "    </tr>\n",
       "    <tr>\n",
       "      <th>n_flt:300, btl_dim:100, glove:100,flt_sz:[3, 4, 5],bn:True,dd_pctg:0.0</th>\n",
       "      <td>True</td>\n",
       "      <td>100</td>\n",
       "      <td>0</td>\n",
       "      <td>[3, 4, 5]</td>\n",
       "      <td>100</td>\n",
       "      <td>300</td>\n",
       "      <td>690</td>\n",
       "      <td>0.758185</td>\n",
       "      <td>0.785370</td>\n",
       "    </tr>\n",
       "    <tr>\n",
       "      <th>n_flt:300, btl_dim:100, glove:100,flt_sz:[1, 4, 7],bn:True,dd_pctg:0.0</th>\n",
       "      <td>True</td>\n",
       "      <td>100</td>\n",
       "      <td>0</td>\n",
       "      <td>[1, 4, 7]</td>\n",
       "      <td>100</td>\n",
       "      <td>300</td>\n",
       "      <td>680</td>\n",
       "      <td>0.757825</td>\n",
       "      <td>0.784571</td>\n",
       "    </tr>\n",
       "    <tr>\n",
       "      <th>n_flt:200, btl_dim:100, glove:100,flt_sz:[3, 4, 5],bn:True,dd_pctg:0.0</th>\n",
       "      <td>True</td>\n",
       "      <td>100</td>\n",
       "      <td>0</td>\n",
       "      <td>[3, 4, 5]</td>\n",
       "      <td>100</td>\n",
       "      <td>200</td>\n",
       "      <td>458</td>\n",
       "      <td>0.755859</td>\n",
       "      <td>0.783727</td>\n",
       "    </tr>\n",
       "    <tr>\n",
       "      <th>n_flt:300, btl_dim:100, glove:100,flt_sz:[1, 3, 5],bn:False,dd_pctg:0.0</th>\n",
       "      <td>False</td>\n",
       "      <td>100</td>\n",
       "      <td>0</td>\n",
       "      <td>[1, 3, 5]</td>\n",
       "      <td>100</td>\n",
       "      <td>300</td>\n",
       "      <td>543</td>\n",
       "      <td>0.755860</td>\n",
       "      <td>0.783631</td>\n",
       "    </tr>\n",
       "  </tbody>\n",
       "</table>\n",
       "</div>"
      ],
      "text/plain": [
       "                                                   batch_norm  \\\n",
       "n_flt:300, btl_dim:100, glove:100,flt_sz:[1, 3,...       True   \n",
       "n_flt:300, btl_dim:100, glove:100,flt_sz:[3, 4,...       True   \n",
       "n_flt:300, btl_dim:100, glove:100,flt_sz:[1, 4,...       True   \n",
       "n_flt:200, btl_dim:100, glove:100,flt_sz:[3, 4,...       True   \n",
       "n_flt:300, btl_dim:100, glove:100,flt_sz:[1, 3,...      False   \n",
       "\n",
       "                                                   bottleneck_fc_dim  \\\n",
       "n_flt:300, btl_dim:100, glove:100,flt_sz:[1, 3,...               100   \n",
       "n_flt:300, btl_dim:100, glove:100,flt_sz:[3, 4,...               100   \n",
       "n_flt:300, btl_dim:100, glove:100,flt_sz:[1, 4,...               100   \n",
       "n_flt:200, btl_dim:100, glove:100,flt_sz:[3, 4,...               100   \n",
       "n_flt:300, btl_dim:100, glove:100,flt_sz:[1, 3,...               100   \n",
       "\n",
       "                                                   dropout_pctg filter_sizes  \\\n",
       "n_flt:300, btl_dim:100, glove:100,flt_sz:[1, 3,...            0    [1, 3, 5]   \n",
       "n_flt:300, btl_dim:100, glove:100,flt_sz:[3, 4,...            0    [3, 4, 5]   \n",
       "n_flt:300, btl_dim:100, glove:100,flt_sz:[1, 4,...            0    [1, 4, 7]   \n",
       "n_flt:200, btl_dim:100, glove:100,flt_sz:[3, 4,...            0    [3, 4, 5]   \n",
       "n_flt:300, btl_dim:100, glove:100,flt_sz:[1, 3,...            0    [1, 3, 5]   \n",
       "\n",
       "                                                   glove_dim num_filters  \\\n",
       "n_flt:300, btl_dim:100, glove:100,flt_sz:[1, 3,...       100         300   \n",
       "n_flt:300, btl_dim:100, glove:100,flt_sz:[3, 4,...       100         300   \n",
       "n_flt:300, btl_dim:100, glove:100,flt_sz:[1, 4,...       100         300   \n",
       "n_flt:200, btl_dim:100, glove:100,flt_sz:[3, 4,...       100         200   \n",
       "n_flt:300, btl_dim:100, glove:100,flt_sz:[1, 3,...       100         300   \n",
       "\n",
       "                                                    train_duration_seconds  \\\n",
       "n_flt:300, btl_dim:100, glove:100,flt_sz:[1, 3,...                     598   \n",
       "n_flt:300, btl_dim:100, glove:100,flt_sz:[3, 4,...                     690   \n",
       "n_flt:300, btl_dim:100, glove:100,flt_sz:[1, 4,...                     680   \n",
       "n_flt:200, btl_dim:100, glove:100,flt_sz:[3, 4,...                     458   \n",
       "n_flt:300, btl_dim:100, glove:100,flt_sz:[1, 3,...                     543   \n",
       "\n",
       "                                                    average_f1_score  \\\n",
       "n_flt:300, btl_dim:100, glove:100,flt_sz:[1, 3,...          0.758763   \n",
       "n_flt:300, btl_dim:100, glove:100,flt_sz:[3, 4,...          0.758185   \n",
       "n_flt:300, btl_dim:100, glove:100,flt_sz:[1, 4,...          0.757825   \n",
       "n_flt:200, btl_dim:100, glove:100,flt_sz:[3, 4,...          0.755859   \n",
       "n_flt:300, btl_dim:100, glove:100,flt_sz:[1, 3,...          0.755860   \n",
       "\n",
       "                                                    average_pAtK_score  \n",
       "n_flt:300, btl_dim:100, glove:100,flt_sz:[1, 3,...            0.785623  \n",
       "n_flt:300, btl_dim:100, glove:100,flt_sz:[3, 4,...            0.785370  \n",
       "n_flt:300, btl_dim:100, glove:100,flt_sz:[1, 4,...            0.784571  \n",
       "n_flt:200, btl_dim:100, glove:100,flt_sz:[3, 4,...            0.783727  \n",
       "n_flt:300, btl_dim:100, glove:100,flt_sz:[1, 3,...            0.783631  "
      ]
     },
     "execution_count": 56,
     "metadata": {},
     "output_type": "execute_result"
    }
   ],
   "source": [
    "relevant_df.sort_values(by=['average_pAtK_score'], ascending=False).head()"
   ]
  },
  {
   "cell_type": "code",
   "execution_count": 57,
   "metadata": {},
   "outputs": [
    {
     "data": {
      "text/plain": [
       "0.36    240\n",
       "0.00    240\n",
       "0.50    235\n",
       "Name: dropout_pctg, dtype: int64"
      ]
     },
     "execution_count": 57,
     "metadata": {},
     "output_type": "execute_result"
    }
   ],
   "source": [
    "relevant_df['dropout_pctg'].value_counts()"
   ]
  },
  {
   "cell_type": "code",
   "execution_count": 58,
   "metadata": {},
   "outputs": [],
   "source": [
    "model_stats['n_flt:100, btl_dim:10, glove:50,flt_sz:[1, 3, 5],bn:False,dd_pctg:0.5']\n",
    "\n",
    "most_overfitting_model = None\n",
    "overfit_score = 0\n",
    "for key, mdl in model_stats.items():\n",
    "    diff = mdl['loss_vector'][-1] - mdl['train_vector'][-1]\n",
    "    if diff > overfit_score:\n",
    "        overfit_score = diff\n",
    "        most_overfitting_model = key"
   ]
  },
  {
   "cell_type": "code",
   "execution_count": 59,
   "metadata": {},
   "outputs": [
    {
     "data": {
      "text/plain": [
       "Text(0.5,1,'loss vs epoch')"
      ]
     },
     "execution_count": 59,
     "metadata": {},
     "output_type": "execute_result"
    },
    {
     "data": {
      "image/png": "[encoded data removed]",
      "text/plain": [
       "<Figure size 864x720 with 1 Axes>"
      ]
     },
     "metadata": {},
     "output_type": "display_data"
    }
   ],
   "source": [
    "overfitting = model_stats[most_overfitting_model]\n",
    "\n",
    "\n",
    "plt.figure(figsize=(12, 10))\n",
    "\n",
    "lossv = overfitting['loss_vector']\n",
    "trainv = overfitting['train_vector']\n",
    "plt.plot(np.arange(1, len(lossv) + 1), lossv, label='loss_vector')\n",
    "plt.plot(np.arange(1, len(trainv) + 1), trainv, label='train_vector')\n",
    "\n",
    "plt.legend(bbox_to_anchor=(1.05, 1), loc=2, borderaxespad=0.)\n",
    "plt.title('loss vs epoch')"
   ]
  },
  {
   "cell_type": "code",
   "execution_count": 17,
   "metadata": {},
   "outputs": [
    {
     "data": {
      "text/plain": [
       "338.3095238095238"
      ]
     },
     "execution_count": 17,
     "metadata": {},
     "output_type": "execute_result"
    }
   ],
   "source": [
    "relevant_df['train_duration_seconds'].mean()\n",
    "\n"
   ]
  },
  {
   "cell_type": "code",
   "execution_count": 18,
   "metadata": {},
   "outputs": [
    {
     "data": {
      "text/plain": [
       "30420"
      ]
     },
     "execution_count": 18,
     "metadata": {},
     "output_type": "execute_result"
    }
   ],
   "source": [
    "338 * 90"
   ]
  },
  {
   "cell_type": "code",
   "execution_count": 19,
   "metadata": {},
   "outputs": [
    {
     "data": {
      "text/plain": [
       "10140.0"
      ]
     },
     "execution_count": 19,
     "metadata": {},
     "output_type": "execute_result"
    }
   ],
   "source": [
    "30420/3"
   ]
  },
  {
   "cell_type": "code",
   "execution_count": 20,
   "metadata": {},
   "outputs": [
    {
     "data": {
      "text/plain": [
       "169.0"
      ]
     },
     "execution_count": 20,
     "metadata": {},
     "output_type": "execute_result"
    }
   ],
   "source": [
    "10140 / 60"
   ]
  },
  {
   "cell_type": "code",
   "execution_count": null,
   "metadata": {},
   "outputs": [],
   "source": [
    "1"
   ]
  }
 ],
 "metadata": {
  "kernelspec": {
   "display_name": "Python 3",
   "language": "python",
   "name": "python3"
  },
  "language_info": {
   "codemirror_mode": {
    "name": "ipython",
    "version": 3
   },
   "file_extension": ".py",
   "mimetype": "text/x-python",
   "name": "python",
   "nbconvert_exporter": "python",
   "pygments_lexer": "ipython3",
   "version": "3.6.2"
  }
 },
 "nbformat": 4,
 "nbformat_minor": 2
}
