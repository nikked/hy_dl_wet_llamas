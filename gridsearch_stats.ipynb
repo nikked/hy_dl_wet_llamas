{
 "cells": [
  {
   "cell_type": "code",
   "execution_count": 2,
   "metadata": {},
   "outputs": [
    {
     "name": "stderr",
     "output_type": "stream",
     "text": [
      "/Users/nikked/Envs/py3env/lib/python3.6/importlib/_bootstrap.py:205: RuntimeWarning: numpy.dtype size changed, may indicate binary incompatibility. Expected 96, got 88\n",
      "  return f(*args, **kwds)\n"
     ]
    }
   ],
   "source": [
    "%matplotlib inline\n",
    "\n",
    "import json\n",
    "import matplotlib.pyplot as plt\n",
    "import numpy as np\n",
    "from pprint import pprint\n",
    "import pandas as pd\n",
    "from datetime import datetime\n"
   ]
  },
  {
   "cell_type": "code",
   "execution_count": 3,
   "metadata": {},
   "outputs": [],
   "source": [
    "# filepath = 'model_stats_hyperopt_181214.json'\n",
    "# filepath = './model_stats_hyperopt_ARTTU_CNN_181214.json'\n",
    "# filepath = './model_stats_hyperopt_181215_optimized.json'\n",
    "# filepath = './log_jsons/model_stats_hyperopt_CRNN2.json'\n",
    "# filepath = './log_jsons/modelstats_20181219.json'\n",
    "filepath = './log_jsons/modelstats_CRNN_2018-12-21 14:07:11.792944.json'\n",
    "\n",
    "\n",
    "\n",
    "with open(filepath, 'r') as file:\n",
    "    model_stats = json.load(file)"
   ]
  },
  {
   "cell_type": "code",
   "execution_count": 4,
   "metadata": {},
   "outputs": [
    {
     "data": {
      "text/plain": [
       "117"
      ]
     },
     "execution_count": 4,
     "metadata": {},
     "output_type": "execute_result"
    }
   ],
   "source": [
    "len(model_stats)"
   ]
  },
  {
   "cell_type": "code",
   "execution_count": 5,
   "metadata": {},
   "outputs": [],
   "source": [
    "df =  pd.DataFrame(model_stats).transpose()"
   ]
  },
  {
   "cell_type": "code",
   "execution_count": 6,
   "metadata": {},
   "outputs": [],
   "source": [
    "date_format = '%Y-%m-%d %H:%M:%S.%f'\n",
    "\n",
    "def date_dist_as_sec(start, end):\n",
    "    date_format = '%Y-%m-%d %H:%M:%S.%f'\n",
    "    start_dt= datetime.strptime(start, date_format)\n",
    "    end_dt= datetime.strptime(end, date_format)\n",
    "    diff = end_dt -start_dt\n",
    "    return diff.seconds\n",
    "\n",
    "def lowest_loss(loss_vector):\n",
    "    if isinstance(loss_vector, list):\n",
    "        return min(loss_vector)\n",
    "    return None\n",
    "\n",
    "df['train_duration_seconds'] = df.apply(lambda row: date_dist_as_sec(row['train_start'], row['train_finish'])  , axis=1)\n",
    "df['lowest_loss_test'] = df.apply(lambda row: lowest_loss(row['test_vector']) , axis=1)\n",
    "df['lowest_loss_valid'] = df.apply(lambda row: lowest_loss(row['valid_vector']) , axis=1)\n",
    "\n"
   ]
  },
  {
   "cell_type": "code",
   "execution_count": 7,
   "metadata": {},
   "outputs": [
    {
     "data": {
      "text/plain": [
       "Index(['batch_norm', 'batch_size', 'bottleneck_fc_dim', 'dropout_pctg',\n",
       "       'epochs', 'f1_scores', 'filter_sizes', 'glove_dim', 'model',\n",
       "       'no_of_trainable_params', 'num_filters', 'num_workers', 'pAtK_scores',\n",
       "       'rnn_bidirectional', 'rnn_hidden_size', 'rnn_num_layers', 'test_vector',\n",
       "       'train_error_message', 'train_finish', 'train_start', 'train_vector',\n",
       "       'txt_length', 'valid_vector', 'train_duration_seconds',\n",
       "       'lowest_loss_test', 'lowest_loss_valid'],\n",
       "      dtype='object')"
      ]
     },
     "execution_count": 7,
     "metadata": {},
     "output_type": "execute_result"
    }
   ],
   "source": [
    "df.columns"
   ]
  },
  {
   "cell_type": "code",
   "execution_count": 8,
   "metadata": {},
   "outputs": [],
   "source": [
    "\n",
    "relevant_df = df[[\n",
    "    'lowest_loss_valid',\n",
    "    'lowest_loss_test',\n",
    "    'rnn_bidirectional',\n",
    "    'rnn_hidden_size',\n",
    "    'rnn_num_layers',\n",
    "    'glove_dim',\n",
    "    'num_filters',\n",
    "    'dropout_pctg',\n",
    "    'filter_sizes',\n",
    "    'bottleneck_fc_dim',\n",
    "    'batch_norm',\n",
    "    'txt_length',\n",
    "#     'stride',\n",
    "    'train_duration_seconds',\n",
    "    'f1_scores'\n",
    "]]\n"
   ]
  },
  {
   "cell_type": "code",
   "execution_count": 9,
   "metadata": {},
   "outputs": [
    {
     "data": {
      "text/html": [
       "<div>\n",
       "<style scoped>\n",
       "    .dataframe tbody tr th:only-of-type {\n",
       "        vertical-align: middle;\n",
       "    }\n",
       "\n",
       "    .dataframe tbody tr th {\n",
       "        vertical-align: top;\n",
       "    }\n",
       "\n",
       "    .dataframe thead th {\n",
       "        text-align: right;\n",
       "    }\n",
       "</style>\n",
       "<table border=\"1\" class=\"dataframe\">\n",
       "  <thead>\n",
       "    <tr style=\"text-align: right;\">\n",
       "      <th></th>\n",
       "      <th>lowest_loss_valid</th>\n",
       "      <th>lowest_loss_test</th>\n",
       "      <th>rnn_bidirectional</th>\n",
       "      <th>rnn_hidden_size</th>\n",
       "      <th>rnn_num_layers</th>\n",
       "      <th>glove_dim</th>\n",
       "      <th>num_filters</th>\n",
       "      <th>dropout_pctg</th>\n",
       "      <th>filter_sizes</th>\n",
       "      <th>bottleneck_fc_dim</th>\n",
       "      <th>batch_norm</th>\n",
       "      <th>txt_length</th>\n",
       "      <th>train_duration_seconds</th>\n",
       "      <th>f1_scores</th>\n",
       "    </tr>\n",
       "  </thead>\n",
       "  <tbody>\n",
       "    <tr>\n",
       "      <th>{\"batch_norm\": true, \"bottleneck_fc_dim\": 530.0, \"cpu_mode\": false, \"dropout_pctg\": 0.17757298556061668, \"epochs\": 20, \"filter_sizes\": [1, 2, 3], \"glove_dim\": 300, \"gpu_no\": 2, \"num_filters\": 762.0, \"rnn_bidirectional\": true, \"rnn_hidden_size\": 652.0, \"rnn_num_layers\": 1.0, \"stride\": 1, \"txt_length\": 775.0}</th>\n",
       "      <td>0.015654</td>\n",
       "      <td>0.015646</td>\n",
       "      <td>True</td>\n",
       "      <td>652</td>\n",
       "      <td>1</td>\n",
       "      <td>300</td>\n",
       "      <td>762</td>\n",
       "      <td>0.18</td>\n",
       "      <td>[1, 2, 3]</td>\n",
       "      <td>530</td>\n",
       "      <td>True</td>\n",
       "      <td>775</td>\n",
       "      <td>3566</td>\n",
       "      <td>{'f1_score_2': 0.7208818582195915, 'f1_score_3...</td>\n",
       "    </tr>\n",
       "    <tr>\n",
       "      <th>{\"batch_norm\": true, \"bottleneck_fc_dim\": 440.0, \"cpu_mode\": false, \"dropout_pctg\": 0.030459794243966977, \"epochs\": 20, \"filter_sizes\": [2, 3, 4], \"glove_dim\": 300, \"gpu_no\": 2, \"num_filters\": 720.0, \"rnn_bidirectional\": true, \"rnn_hidden_size\": 125.0, \"rnn_num_layers\": 7.0, \"stride\": 1, \"txt_length\": 782.0}</th>\n",
       "      <td>0.015903</td>\n",
       "      <td>0.015797</td>\n",
       "      <td>True</td>\n",
       "      <td>125</td>\n",
       "      <td>7</td>\n",
       "      <td>300</td>\n",
       "      <td>720</td>\n",
       "      <td>0.03</td>\n",
       "      <td>[2, 3, 4]</td>\n",
       "      <td>440</td>\n",
       "      <td>True</td>\n",
       "      <td>782</td>\n",
       "      <td>9212</td>\n",
       "      <td>{'f1_score_2': 0.718211116960491, 'f1_score_3'...</td>\n",
       "    </tr>\n",
       "    <tr>\n",
       "      <th>{\"batch_norm\": true, \"bottleneck_fc_dim\": 517.0, \"cpu_mode\": false, \"dropout_pctg\": 0.04060854773641858, \"epochs\": 20, \"filter_sizes\": [1, 2, 3, 4, 5], \"glove_dim\": 200, \"gpu_no\": 2, \"num_filters\": 1144.0, \"rnn_bidirectional\": true, \"rnn_hidden_size\": 173.0, \"rnn_num_layers\": 1.0, \"stride\": 1, \"txt_length\": 728.0}</th>\n",
       "      <td>0.015905</td>\n",
       "      <td>0.015804</td>\n",
       "      <td>True</td>\n",
       "      <td>173</td>\n",
       "      <td>1</td>\n",
       "      <td>200</td>\n",
       "      <td>1144</td>\n",
       "      <td>0.04</td>\n",
       "      <td>[1, 2, 3, 4, 5]</td>\n",
       "      <td>517</td>\n",
       "      <td>True</td>\n",
       "      <td>728</td>\n",
       "      <td>4148</td>\n",
       "      <td>{'f1_score_2': 0.7208690181173842, 'f1_score_3...</td>\n",
       "    </tr>\n",
       "    <tr>\n",
       "      <th>{\"batch_norm\": true, \"bottleneck_fc_dim\": 598.0, \"cpu_mode\": false, \"dropout_pctg\": 0.0031100400300530743, \"epochs\": 20, \"filter_sizes\": [1, 2, 3, 4, 5], \"glove_dim\": 300, \"gpu_no\": 2, \"num_filters\": 796.0, \"rnn_bidirectional\": true, \"rnn_hidden_size\": 60.0, \"rnn_num_layers\": 8.0, \"stride\": 1, \"txt_length\": 784.0}</th>\n",
       "      <td>0.015957</td>\n",
       "      <td>0.015807</td>\n",
       "      <td>True</td>\n",
       "      <td>60</td>\n",
       "      <td>8</td>\n",
       "      <td>300</td>\n",
       "      <td>796</td>\n",
       "      <td>0</td>\n",
       "      <td>[1, 2, 3, 4, 5]</td>\n",
       "      <td>598</td>\n",
       "      <td>True</td>\n",
       "      <td>784</td>\n",
       "      <td>6952</td>\n",
       "      <td>{'f1_score_2': 0.7204581348467533, 'f1_score_3...</td>\n",
       "    </tr>\n",
       "    <tr>\n",
       "      <th>{\"batch_norm\": true, \"bottleneck_fc_dim\": 452.0, \"cpu_mode\": false, \"dropout_pctg\": 0.02414456065647231, \"epochs\": 20, \"filter_sizes\": [2, 3, 4], \"glove_dim\": 300, \"gpu_no\": 2, \"num_filters\": 686.0, \"rnn_bidirectional\": true, \"rnn_hidden_size\": 126.0, \"rnn_num_layers\": 8.0, \"stride\": 1, \"txt_length\": 792.0}</th>\n",
       "      <td>0.015970</td>\n",
       "      <td>0.015844</td>\n",
       "      <td>True</td>\n",
       "      <td>126</td>\n",
       "      <td>8</td>\n",
       "      <td>300</td>\n",
       "      <td>686</td>\n",
       "      <td>0.02</td>\n",
       "      <td>[2, 3, 4]</td>\n",
       "      <td>452</td>\n",
       "      <td>True</td>\n",
       "      <td>792</td>\n",
       "      <td>8611</td>\n",
       "      <td>{'f1_score_2': 0.7198803302474288, 'f1_score_3...</td>\n",
       "    </tr>\n",
       "    <tr>\n",
       "      <th>{\"batch_norm\": true, \"bottleneck_fc_dim\": 597.0, \"cpu_mode\": false, \"dropout_pctg\": 0.0035064775698738504, \"epochs\": 20, \"filter_sizes\": [1, 2, 3, 4, 5], \"glove_dim\": 300, \"gpu_no\": 2, \"num_filters\": 777.0, \"rnn_bidirectional\": true, \"rnn_hidden_size\": 62.0, \"rnn_num_layers\": 8.0, \"stride\": 1, \"txt_length\": 746.0}</th>\n",
       "      <td>0.015950</td>\n",
       "      <td>0.015875</td>\n",
       "      <td>True</td>\n",
       "      <td>62</td>\n",
       "      <td>8</td>\n",
       "      <td>300</td>\n",
       "      <td>777</td>\n",
       "      <td>0</td>\n",
       "      <td>[1, 2, 3, 4, 5]</td>\n",
       "      <td>597</td>\n",
       "      <td>True</td>\n",
       "      <td>746</td>\n",
       "      <td>7109</td>\n",
       "      <td>{'f1_score_2': 0.7173251499081933, 'f1_score_3...</td>\n",
       "    </tr>\n",
       "    <tr>\n",
       "      <th>{\"batch_norm\": true, \"bottleneck_fc_dim\": 597.0, \"cpu_mode\": false, \"dropout_pctg\": 0.0010356605218818735, \"epochs\": 20, \"filter_sizes\": [1, 2, 3, 4, 5], \"glove_dim\": 300, \"gpu_no\": 2, \"num_filters\": 800.0, \"rnn_bidirectional\": true, \"rnn_hidden_size\": 58.0, \"rnn_num_layers\": 8.0, \"stride\": 1, \"txt_length\": 800.0}</th>\n",
       "      <td>0.015981</td>\n",
       "      <td>0.015881</td>\n",
       "      <td>True</td>\n",
       "      <td>58</td>\n",
       "      <td>8</td>\n",
       "      <td>300</td>\n",
       "      <td>800</td>\n",
       "      <td>0</td>\n",
       "      <td>[1, 2, 3, 4, 5]</td>\n",
       "      <td>597</td>\n",
       "      <td>True</td>\n",
       "      <td>800</td>\n",
       "      <td>6398</td>\n",
       "      <td>{'f1_score_2': 0.7204067744379246, 'f1_score_3...</td>\n",
       "    </tr>\n",
       "    <tr>\n",
       "      <th>{\"batch_norm\": true, \"bottleneck_fc_dim\": 506.0, \"cpu_mode\": false, \"dropout_pctg\": 0.10461077790287834, \"epochs\": 20, \"filter_sizes\": [1, 2, 3], \"glove_dim\": 300, \"gpu_no\": 2, \"num_filters\": 952.0, \"rnn_bidirectional\": true, \"rnn_hidden_size\": 79.0, \"rnn_num_layers\": 1.0, \"stride\": 1, \"txt_length\": 799.0}</th>\n",
       "      <td>0.016080</td>\n",
       "      <td>0.015933</td>\n",
       "      <td>True</td>\n",
       "      <td>79</td>\n",
       "      <td>1</td>\n",
       "      <td>300</td>\n",
       "      <td>952</td>\n",
       "      <td>0.1</td>\n",
       "      <td>[1, 2, 3]</td>\n",
       "      <td>506</td>\n",
       "      <td>True</td>\n",
       "      <td>799</td>\n",
       "      <td>2675</td>\n",
       "      <td>{'f1_score_2': 0.7203040536202668, 'f1_score_3...</td>\n",
       "    </tr>\n",
       "    <tr>\n",
       "      <th>{\"batch_norm\": true, \"bottleneck_fc_dim\": 433.0, \"cpu_mode\": false, \"dropout_pctg\": 0.0767985953444023, \"epochs\": 20, \"filter_sizes\": [3, 4, 5, 6], \"glove_dim\": 300, \"gpu_no\": 2, \"num_filters\": 631.0, \"rnn_bidirectional\": true, \"rnn_hidden_size\": 277.0, \"rnn_num_layers\": 2.0, \"stride\": 1, \"txt_length\": 760.0}</th>\n",
       "      <td>0.015945</td>\n",
       "      <td>0.015935</td>\n",
       "      <td>True</td>\n",
       "      <td>277</td>\n",
       "      <td>2</td>\n",
       "      <td>300</td>\n",
       "      <td>631</td>\n",
       "      <td>0.08</td>\n",
       "      <td>[3, 4, 5, 6]</td>\n",
       "      <td>433</td>\n",
       "      <td>True</td>\n",
       "      <td>760</td>\n",
       "      <td>4677</td>\n",
       "      <td>{'f1_score_2': 0.7221273481336911, 'f1_score_3...</td>\n",
       "    </tr>\n",
       "    <tr>\n",
       "      <th>{\"batch_norm\": true, \"bottleneck_fc_dim\": 485.0, \"cpu_mode\": false, \"dropout_pctg\": 0.22263198996574987, \"epochs\": 20, \"filter_sizes\": [1, 2, 3], \"glove_dim\": 200, \"gpu_no\": 2, \"num_filters\": 802.0, \"rnn_bidirectional\": true, \"rnn_hidden_size\": 166.0, \"rnn_num_layers\": 1.0, \"stride\": 1, \"txt_length\": 729.0}</th>\n",
       "      <td>0.016216</td>\n",
       "      <td>0.015951</td>\n",
       "      <td>True</td>\n",
       "      <td>166</td>\n",
       "      <td>1</td>\n",
       "      <td>200</td>\n",
       "      <td>802</td>\n",
       "      <td>0.22</td>\n",
       "      <td>[1, 2, 3]</td>\n",
       "      <td>485</td>\n",
       "      <td>True</td>\n",
       "      <td>729</td>\n",
       "      <td>2026</td>\n",
       "      <td>{'f1_score_2': 0.7207534571975193, 'f1_score_3...</td>\n",
       "    </tr>\n",
       "  </tbody>\n",
       "</table>\n",
       "</div>"
      ],
      "text/plain": [
       "                                                    lowest_loss_valid  \\\n",
       "{\"batch_norm\": true, \"bottleneck_fc_dim\": 530.0...           0.015654   \n",
       "{\"batch_norm\": true, \"bottleneck_fc_dim\": 440.0...           0.015903   \n",
       "{\"batch_norm\": true, \"bottleneck_fc_dim\": 517.0...           0.015905   \n",
       "{\"batch_norm\": true, \"bottleneck_fc_dim\": 598.0...           0.015957   \n",
       "{\"batch_norm\": true, \"bottleneck_fc_dim\": 452.0...           0.015970   \n",
       "{\"batch_norm\": true, \"bottleneck_fc_dim\": 597.0...           0.015950   \n",
       "{\"batch_norm\": true, \"bottleneck_fc_dim\": 597.0...           0.015981   \n",
       "{\"batch_norm\": true, \"bottleneck_fc_dim\": 506.0...           0.016080   \n",
       "{\"batch_norm\": true, \"bottleneck_fc_dim\": 433.0...           0.015945   \n",
       "{\"batch_norm\": true, \"bottleneck_fc_dim\": 485.0...           0.016216   \n",
       "\n",
       "                                                    lowest_loss_test  \\\n",
       "{\"batch_norm\": true, \"bottleneck_fc_dim\": 530.0...          0.015646   \n",
       "{\"batch_norm\": true, \"bottleneck_fc_dim\": 440.0...          0.015797   \n",
       "{\"batch_norm\": true, \"bottleneck_fc_dim\": 517.0...          0.015804   \n",
       "{\"batch_norm\": true, \"bottleneck_fc_dim\": 598.0...          0.015807   \n",
       "{\"batch_norm\": true, \"bottleneck_fc_dim\": 452.0...          0.015844   \n",
       "{\"batch_norm\": true, \"bottleneck_fc_dim\": 597.0...          0.015875   \n",
       "{\"batch_norm\": true, \"bottleneck_fc_dim\": 597.0...          0.015881   \n",
       "{\"batch_norm\": true, \"bottleneck_fc_dim\": 506.0...          0.015933   \n",
       "{\"batch_norm\": true, \"bottleneck_fc_dim\": 433.0...          0.015935   \n",
       "{\"batch_norm\": true, \"bottleneck_fc_dim\": 485.0...          0.015951   \n",
       "\n",
       "                                                   rnn_bidirectional  \\\n",
       "{\"batch_norm\": true, \"bottleneck_fc_dim\": 530.0...              True   \n",
       "{\"batch_norm\": true, \"bottleneck_fc_dim\": 440.0...              True   \n",
       "{\"batch_norm\": true, \"bottleneck_fc_dim\": 517.0...              True   \n",
       "{\"batch_norm\": true, \"bottleneck_fc_dim\": 598.0...              True   \n",
       "{\"batch_norm\": true, \"bottleneck_fc_dim\": 452.0...              True   \n",
       "{\"batch_norm\": true, \"bottleneck_fc_dim\": 597.0...              True   \n",
       "{\"batch_norm\": true, \"bottleneck_fc_dim\": 597.0...              True   \n",
       "{\"batch_norm\": true, \"bottleneck_fc_dim\": 506.0...              True   \n",
       "{\"batch_norm\": true, \"bottleneck_fc_dim\": 433.0...              True   \n",
       "{\"batch_norm\": true, \"bottleneck_fc_dim\": 485.0...              True   \n",
       "\n",
       "                                                   rnn_hidden_size  \\\n",
       "{\"batch_norm\": true, \"bottleneck_fc_dim\": 530.0...             652   \n",
       "{\"batch_norm\": true, \"bottleneck_fc_dim\": 440.0...             125   \n",
       "{\"batch_norm\": true, \"bottleneck_fc_dim\": 517.0...             173   \n",
       "{\"batch_norm\": true, \"bottleneck_fc_dim\": 598.0...              60   \n",
       "{\"batch_norm\": true, \"bottleneck_fc_dim\": 452.0...             126   \n",
       "{\"batch_norm\": true, \"bottleneck_fc_dim\": 597.0...              62   \n",
       "{\"batch_norm\": true, \"bottleneck_fc_dim\": 597.0...              58   \n",
       "{\"batch_norm\": true, \"bottleneck_fc_dim\": 506.0...              79   \n",
       "{\"batch_norm\": true, \"bottleneck_fc_dim\": 433.0...             277   \n",
       "{\"batch_norm\": true, \"bottleneck_fc_dim\": 485.0...             166   \n",
       "\n",
       "                                                   rnn_num_layers glove_dim  \\\n",
       "{\"batch_norm\": true, \"bottleneck_fc_dim\": 530.0...              1       300   \n",
       "{\"batch_norm\": true, \"bottleneck_fc_dim\": 440.0...              7       300   \n",
       "{\"batch_norm\": true, \"bottleneck_fc_dim\": 517.0...              1       200   \n",
       "{\"batch_norm\": true, \"bottleneck_fc_dim\": 598.0...              8       300   \n",
       "{\"batch_norm\": true, \"bottleneck_fc_dim\": 452.0...              8       300   \n",
       "{\"batch_norm\": true, \"bottleneck_fc_dim\": 597.0...              8       300   \n",
       "{\"batch_norm\": true, \"bottleneck_fc_dim\": 597.0...              8       300   \n",
       "{\"batch_norm\": true, \"bottleneck_fc_dim\": 506.0...              1       300   \n",
       "{\"batch_norm\": true, \"bottleneck_fc_dim\": 433.0...              2       300   \n",
       "{\"batch_norm\": true, \"bottleneck_fc_dim\": 485.0...              1       200   \n",
       "\n",
       "                                                   num_filters dropout_pctg  \\\n",
       "{\"batch_norm\": true, \"bottleneck_fc_dim\": 530.0...         762         0.18   \n",
       "{\"batch_norm\": true, \"bottleneck_fc_dim\": 440.0...         720         0.03   \n",
       "{\"batch_norm\": true, \"bottleneck_fc_dim\": 517.0...        1144         0.04   \n",
       "{\"batch_norm\": true, \"bottleneck_fc_dim\": 598.0...         796            0   \n",
       "{\"batch_norm\": true, \"bottleneck_fc_dim\": 452.0...         686         0.02   \n",
       "{\"batch_norm\": true, \"bottleneck_fc_dim\": 597.0...         777            0   \n",
       "{\"batch_norm\": true, \"bottleneck_fc_dim\": 597.0...         800            0   \n",
       "{\"batch_norm\": true, \"bottleneck_fc_dim\": 506.0...         952          0.1   \n",
       "{\"batch_norm\": true, \"bottleneck_fc_dim\": 433.0...         631         0.08   \n",
       "{\"batch_norm\": true, \"bottleneck_fc_dim\": 485.0...         802         0.22   \n",
       "\n",
       "                                                       filter_sizes  \\\n",
       "{\"batch_norm\": true, \"bottleneck_fc_dim\": 530.0...        [1, 2, 3]   \n",
       "{\"batch_norm\": true, \"bottleneck_fc_dim\": 440.0...        [2, 3, 4]   \n",
       "{\"batch_norm\": true, \"bottleneck_fc_dim\": 517.0...  [1, 2, 3, 4, 5]   \n",
       "{\"batch_norm\": true, \"bottleneck_fc_dim\": 598.0...  [1, 2, 3, 4, 5]   \n",
       "{\"batch_norm\": true, \"bottleneck_fc_dim\": 452.0...        [2, 3, 4]   \n",
       "{\"batch_norm\": true, \"bottleneck_fc_dim\": 597.0...  [1, 2, 3, 4, 5]   \n",
       "{\"batch_norm\": true, \"bottleneck_fc_dim\": 597.0...  [1, 2, 3, 4, 5]   \n",
       "{\"batch_norm\": true, \"bottleneck_fc_dim\": 506.0...        [1, 2, 3]   \n",
       "{\"batch_norm\": true, \"bottleneck_fc_dim\": 433.0...     [3, 4, 5, 6]   \n",
       "{\"batch_norm\": true, \"bottleneck_fc_dim\": 485.0...        [1, 2, 3]   \n",
       "\n",
       "                                                   bottleneck_fc_dim  \\\n",
       "{\"batch_norm\": true, \"bottleneck_fc_dim\": 530.0...               530   \n",
       "{\"batch_norm\": true, \"bottleneck_fc_dim\": 440.0...               440   \n",
       "{\"batch_norm\": true, \"bottleneck_fc_dim\": 517.0...               517   \n",
       "{\"batch_norm\": true, \"bottleneck_fc_dim\": 598.0...               598   \n",
       "{\"batch_norm\": true, \"bottleneck_fc_dim\": 452.0...               452   \n",
       "{\"batch_norm\": true, \"bottleneck_fc_dim\": 597.0...               597   \n",
       "{\"batch_norm\": true, \"bottleneck_fc_dim\": 597.0...               597   \n",
       "{\"batch_norm\": true, \"bottleneck_fc_dim\": 506.0...               506   \n",
       "{\"batch_norm\": true, \"bottleneck_fc_dim\": 433.0...               433   \n",
       "{\"batch_norm\": true, \"bottleneck_fc_dim\": 485.0...               485   \n",
       "\n",
       "                                                   batch_norm txt_length  \\\n",
       "{\"batch_norm\": true, \"bottleneck_fc_dim\": 530.0...       True        775   \n",
       "{\"batch_norm\": true, \"bottleneck_fc_dim\": 440.0...       True        782   \n",
       "{\"batch_norm\": true, \"bottleneck_fc_dim\": 517.0...       True        728   \n",
       "{\"batch_norm\": true, \"bottleneck_fc_dim\": 598.0...       True        784   \n",
       "{\"batch_norm\": true, \"bottleneck_fc_dim\": 452.0...       True        792   \n",
       "{\"batch_norm\": true, \"bottleneck_fc_dim\": 597.0...       True        746   \n",
       "{\"batch_norm\": true, \"bottleneck_fc_dim\": 597.0...       True        800   \n",
       "{\"batch_norm\": true, \"bottleneck_fc_dim\": 506.0...       True        799   \n",
       "{\"batch_norm\": true, \"bottleneck_fc_dim\": 433.0...       True        760   \n",
       "{\"batch_norm\": true, \"bottleneck_fc_dim\": 485.0...       True        729   \n",
       "\n",
       "                                                    train_duration_seconds  \\\n",
       "{\"batch_norm\": true, \"bottleneck_fc_dim\": 530.0...                    3566   \n",
       "{\"batch_norm\": true, \"bottleneck_fc_dim\": 440.0...                    9212   \n",
       "{\"batch_norm\": true, \"bottleneck_fc_dim\": 517.0...                    4148   \n",
       "{\"batch_norm\": true, \"bottleneck_fc_dim\": 598.0...                    6952   \n",
       "{\"batch_norm\": true, \"bottleneck_fc_dim\": 452.0...                    8611   \n",
       "{\"batch_norm\": true, \"bottleneck_fc_dim\": 597.0...                    7109   \n",
       "{\"batch_norm\": true, \"bottleneck_fc_dim\": 597.0...                    6398   \n",
       "{\"batch_norm\": true, \"bottleneck_fc_dim\": 506.0...                    2675   \n",
       "{\"batch_norm\": true, \"bottleneck_fc_dim\": 433.0...                    4677   \n",
       "{\"batch_norm\": true, \"bottleneck_fc_dim\": 485.0...                    2026   \n",
       "\n",
       "                                                                                            f1_scores  \n",
       "{\"batch_norm\": true, \"bottleneck_fc_dim\": 530.0...  {'f1_score_2': 0.7208818582195915, 'f1_score_3...  \n",
       "{\"batch_norm\": true, \"bottleneck_fc_dim\": 440.0...  {'f1_score_2': 0.718211116960491, 'f1_score_3'...  \n",
       "{\"batch_norm\": true, \"bottleneck_fc_dim\": 517.0...  {'f1_score_2': 0.7208690181173842, 'f1_score_3...  \n",
       "{\"batch_norm\": true, \"bottleneck_fc_dim\": 598.0...  {'f1_score_2': 0.7204581348467533, 'f1_score_3...  \n",
       "{\"batch_norm\": true, \"bottleneck_fc_dim\": 452.0...  {'f1_score_2': 0.7198803302474288, 'f1_score_3...  \n",
       "{\"batch_norm\": true, \"bottleneck_fc_dim\": 597.0...  {'f1_score_2': 0.7173251499081933, 'f1_score_3...  \n",
       "{\"batch_norm\": true, \"bottleneck_fc_dim\": 597.0...  {'f1_score_2': 0.7204067744379246, 'f1_score_3...  \n",
       "{\"batch_norm\": true, \"bottleneck_fc_dim\": 506.0...  {'f1_score_2': 0.7203040536202668, 'f1_score_3...  \n",
       "{\"batch_norm\": true, \"bottleneck_fc_dim\": 433.0...  {'f1_score_2': 0.7221273481336911, 'f1_score_3...  \n",
       "{\"batch_norm\": true, \"bottleneck_fc_dim\": 485.0...  {'f1_score_2': 0.7207534571975193, 'f1_score_3...  "
      ]
     },
     "execution_count": 9,
     "metadata": {},
     "output_type": "execute_result"
    }
   ],
   "source": [
    "relevant_df.sort_values(by=['lowest_loss_test']).head(10)"
   ]
  },
  {
   "cell_type": "code",
   "execution_count": 50,
   "metadata": {},
   "outputs": [
    {
     "ename": "KeyError",
     "evalue": "'n_flt:100, btl_dim:10, glove:50,flt_sz:[1, 3, 5],bn:False,dd_pctg:0.5'",
     "output_type": "error",
     "traceback": [
      "\u001b[0;31m---------------------------------------------------------------------------\u001b[0m",
      "\u001b[0;31mKeyError\u001b[0m                                  Traceback (most recent call last)",
      "\u001b[0;32m<ipython-input-50-cb845c2ea431>\u001b[0m in \u001b[0;36m<module>\u001b[0;34m()\u001b[0m\n\u001b[0;32m----> 1\u001b[0;31m \u001b[0mmodel_stats\u001b[0m\u001b[0;34m[\u001b[0m\u001b[0;34m'n_flt:100, btl_dim:10, glove:50,flt_sz:[1, 3, 5],bn:False,dd_pctg:0.5'\u001b[0m\u001b[0;34m]\u001b[0m\u001b[0;34m\u001b[0m\u001b[0m\n\u001b[0m\u001b[1;32m      2\u001b[0m \u001b[0;34m\u001b[0m\u001b[0m\n\u001b[1;32m      3\u001b[0m \u001b[0mmost_overfitting_model\u001b[0m \u001b[0;34m=\u001b[0m \u001b[0;32mNone\u001b[0m\u001b[0;34m\u001b[0m\u001b[0m\n\u001b[1;32m      4\u001b[0m \u001b[0moverfit_score\u001b[0m \u001b[0;34m=\u001b[0m \u001b[0;36m0\u001b[0m\u001b[0;34m\u001b[0m\u001b[0m\n\u001b[1;32m      5\u001b[0m \u001b[0;32mfor\u001b[0m \u001b[0mkey\u001b[0m\u001b[0;34m,\u001b[0m \u001b[0mmdl\u001b[0m \u001b[0;32min\u001b[0m \u001b[0mmodel_stats\u001b[0m\u001b[0;34m.\u001b[0m\u001b[0mitems\u001b[0m\u001b[0;34m(\u001b[0m\u001b[0;34m)\u001b[0m\u001b[0;34m:\u001b[0m\u001b[0;34m\u001b[0m\u001b[0m\n",
      "\u001b[0;31mKeyError\u001b[0m: 'n_flt:100, btl_dim:10, glove:50,flt_sz:[1, 3, 5],bn:False,dd_pctg:0.5'"
     ]
    }
   ],
   "source": [
    "model_stats['n_flt:100, btl_dim:10, glove:50,flt_sz:[1, 3, 5],bn:False,dd_pctg:0.5']\n",
    "\n",
    "most_overfitting_model = None\n",
    "overfit_score = 0\n",
    "for key, mdl in model_stats.items():\n",
    "    diff = mdl['loss_vector'][-1] - mdl['train_vector'][-1]\n",
    "    if diff > overfit_score:\n",
    "        overfit_score = diff\n",
    "        most_overfitting_model = key"
   ]
  },
  {
   "cell_type": "code",
   "execution_count": 51,
   "metadata": {},
   "outputs": [
    {
     "ename": "NameError",
     "evalue": "name 'most_overfitting_model' is not defined",
     "output_type": "error",
     "traceback": [
      "\u001b[0;31m---------------------------------------------------------------------------\u001b[0m",
      "\u001b[0;31mNameError\u001b[0m                                 Traceback (most recent call last)",
      "\u001b[0;32m<ipython-input-51-f90fd5f82277>\u001b[0m in \u001b[0;36m<module>\u001b[0;34m()\u001b[0m\n\u001b[0;32m----> 1\u001b[0;31m \u001b[0moverfitting\u001b[0m \u001b[0;34m=\u001b[0m \u001b[0mmodel_stats\u001b[0m\u001b[0;34m[\u001b[0m\u001b[0mmost_overfitting_model\u001b[0m\u001b[0;34m]\u001b[0m\u001b[0;34m\u001b[0m\u001b[0m\n\u001b[0m\u001b[1;32m      2\u001b[0m \u001b[0;34m\u001b[0m\u001b[0m\n\u001b[1;32m      3\u001b[0m \u001b[0;34m\u001b[0m\u001b[0m\n\u001b[1;32m      4\u001b[0m \u001b[0mplt\u001b[0m\u001b[0;34m.\u001b[0m\u001b[0mfigure\u001b[0m\u001b[0;34m(\u001b[0m\u001b[0mfigsize\u001b[0m\u001b[0;34m=\u001b[0m\u001b[0;34m(\u001b[0m\u001b[0;36m12\u001b[0m\u001b[0;34m,\u001b[0m \u001b[0;36m10\u001b[0m\u001b[0;34m)\u001b[0m\u001b[0;34m)\u001b[0m\u001b[0;34m\u001b[0m\u001b[0m\n\u001b[1;32m      5\u001b[0m \u001b[0;34m\u001b[0m\u001b[0m\n",
      "\u001b[0;31mNameError\u001b[0m: name 'most_overfitting_model' is not defined"
     ]
    }
   ],
   "source": [
    "overfitting = model_stats[most_overfitting_model]\n",
    "\n",
    "\n",
    "plt.figure(figsize=(12, 10))\n",
    "\n",
    "lossv = overfitting['loss_vector']\n",
    "trainv = overfitting['train_vector']\n",
    "plt.plot(np.arange(1, len(lossv) + 1), lossv, label='loss_vector')\n",
    "plt.plot(np.arange(1, len(trainv) + 1), trainv, label='train_vector')\n",
    "\n",
    "plt.legend(bbox_to_anchor=(1.05, 1), loc=2, borderaxespad=0.)\n",
    "plt.title('loss vs epoch')"
   ]
  },
  {
   "cell_type": "code",
   "execution_count": 17,
   "metadata": {},
   "outputs": [
    {
     "data": {
      "text/plain": [
       "338.3095238095238"
      ]
     },
     "execution_count": 17,
     "metadata": {},
     "output_type": "execute_result"
    }
   ],
   "source": [
    "relevant_df['train_duration_seconds'].mean()\n",
    "\n"
   ]
  },
  {
   "cell_type": "code",
   "execution_count": 18,
   "metadata": {},
   "outputs": [
    {
     "data": {
      "text/plain": [
       "30420"
      ]
     },
     "execution_count": 18,
     "metadata": {},
     "output_type": "execute_result"
    }
   ],
   "source": [
    "338 * 90"
   ]
  },
  {
   "cell_type": "code",
   "execution_count": 19,
   "metadata": {},
   "outputs": [
    {
     "data": {
      "text/plain": [
       "10140.0"
      ]
     },
     "execution_count": 19,
     "metadata": {},
     "output_type": "execute_result"
    }
   ],
   "source": [
    "30420/3"
   ]
  },
  {
   "cell_type": "code",
   "execution_count": 20,
   "metadata": {},
   "outputs": [
    {
     "data": {
      "text/plain": [
       "169.0"
      ]
     },
     "execution_count": 20,
     "metadata": {},
     "output_type": "execute_result"
    }
   ],
   "source": [
    "10140 / 60"
   ]
  },
  {
   "cell_type": "code",
   "execution_count": null,
   "metadata": {},
   "outputs": [],
   "source": [
    "1"
   ]
  }
 ],
 "metadata": {
  "kernelspec": {
   "display_name": "py3env",
   "language": "python",
   "name": "py3env"
  },
  "language_info": {
   "codemirror_mode": {
    "name": "ipython",
    "version": 3
   },
   "file_extension": ".py",
   "mimetype": "text/x-python",
   "name": "python",
   "nbconvert_exporter": "python",
   "pygments_lexer": "ipython3",
   "version": "3.6.2"
  }
 },
 "nbformat": 4,
 "nbformat_minor": 2
}
