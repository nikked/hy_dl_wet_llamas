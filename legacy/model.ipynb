{
 "cells": [
  {
   "cell_type": "code",
   "execution_count": 1,
   "metadata": {},
   "outputs": [
    {
     "name": "stderr",
     "output_type": "stream",
     "text": [
      "/Users/nikked/Envs/py3env/lib/python3.6/importlib/_bootstrap.py:205: RuntimeWarning: numpy.dtype size changed, may indicate binary incompatibility. Expected 96, got 88\n",
      "  return f(*args, **kwds)\n",
      "/Users/nikked/Envs/py3env/lib/python3.6/importlib/_bootstrap.py:205: RuntimeWarning: numpy.dtype size changed, may indicate binary incompatibility. Expected 96, got 88\n",
      "  return f(*args, **kwds)\n"
     ]
    }
   ],
   "source": [
    "import json\n",
    "import os\n",
    "import sys\n",
    "import pandas as pd\n",
    "from pprint import pprint\n",
    "\n",
    "REUTERS_JSON_FP = './train/reuters.json'"
   ]
  },
  {
   "cell_type": "code",
   "execution_count": 8,
   "metadata": {},
   "outputs": [
    {
     "name": "stdout",
     "output_type": "stream",
     "text": [
      "Opening file ./train/reuters.json\n",
      "\n",
      "Amount of articles: 299773\n",
      "\n"
     ]
    }
   ],
   "source": [
    "if not os.path.exists(REUTERS_JSON_FP):\n",
    "    print(f'Could not find file {REUTERS_JSON_FP}. Please run data_preprocess.py first.')\n",
    "    sys.exit(1)\n",
    "\n",
    "with open(REUTERS_JSON_FP, 'r') as file:\n",
    "    print(f'Opening file {REUTERS_JSON_FP}')\n",
    "    reuters_articles = json.load(file)\n",
    "\n",
    "print(f'\\nAmount of articles: {len(reuters_articles.keys())}\\n')\n"
   ]
  },
  {
   "cell_type": "code",
   "execution_count": 10,
   "metadata": {},
   "outputs": [
    {
     "name": "stdout",
     "output_type": "stream",
     "text": [
      "Adding item 0/10000\n",
      "Adding item 1000/10000\n",
      "Adding item 2000/10000\n",
      "Adding item 3000/10000\n",
      "Adding item 4000/10000\n",
      "Adding item 5000/10000\n",
      "Adding item 6000/10000\n",
      "Adding item 7000/10000\n",
      "Adding item 8000/10000\n",
      "Adding item 9000/10000\n"
     ]
    }
   ],
   "source": [
    "df = pd.DataFrame(columns=['topic_codes', 'headline', 'text'])\n",
    "\n",
    "df_max_size = 10000\n",
    "idx = 0\n",
    "\n",
    "total_articles_in_df = min(df_max_size, len(reuters_articles))\n",
    "\n",
    "for article_identifier, content in reuters_articles.items():\n",
    "    \n",
    "    if idx % 1000 == 0:\n",
    "        print(f'Adding item {idx}/{total_articles_in_df}')\n",
    "    df.loc[article_identifier] = [str(content['topic_codes']), content['headline'], str(content['text'])]\n",
    "    idx += 1\n",
    "    \n",
    "    if idx >=  total_articles_in_df:\n",
    "        break\n"
   ]
  },
  {
   "cell_type": "code",
   "execution_count": 12,
   "metadata": {},
   "outputs": [
    {
     "name": "stdout",
     "output_type": "stream",
     "text": [
      "<class 'pandas.core.frame.DataFrame'>\n",
      "Index: 10000 entries, 19970602_632411newsML to 19970401_479285newsML\n",
      "Data columns (total 3 columns):\n",
      "topic_codes    10000 non-null object\n",
      "headline       10000 non-null object\n",
      "text           10000 non-null object\n",
      "dtypes: object(3)\n",
      "memory usage: 312.5+ KB\n"
     ]
    }
   ],
   "source": [
    "df.info()\n"
   ]
  },
  {
   "cell_type": "code",
   "execution_count": 13,
   "metadata": {},
   "outputs": [
    {
     "name": "stdout",
     "output_type": "stream",
     "text": [
      "<class 'pandas.core.frame.DataFrame'>\n",
      "Index: 10000 entries, 19970602_632411newsML to 19970401_479285newsML\n",
      "Data columns (total 3 columns):\n",
      "topic_codes    10000 non-null object\n",
      "headline       10000 non-null object\n",
      "text           10000 non-null object\n",
      "dtypes: object(3)\n",
      "memory usage: 312.5+ KB\n"
     ]
    }
   ],
   "source": [
    "df.info()"
   ]
  },
  {
   "cell_type": "code",
   "execution_count": 15,
   "metadata": {},
   "outputs": [
    {
     "data": {
      "text/html": [
       "<div>\n",
       "<style scoped>\n",
       "    .dataframe tbody tr th:only-of-type {\n",
       "        vertical-align: middle;\n",
       "    }\n",
       "\n",
       "    .dataframe tbody tr th {\n",
       "        vertical-align: top;\n",
       "    }\n",
       "\n",
       "    .dataframe thead th {\n",
       "        text-align: right;\n",
       "    }\n",
       "</style>\n",
       "<table border=\"1\" class=\"dataframe\">\n",
       "  <thead>\n",
       "    <tr style=\"text-align: right;\">\n",
       "      <th></th>\n",
       "      <th>count</th>\n",
       "      <th>unique</th>\n",
       "      <th>top</th>\n",
       "      <th>freq</th>\n",
       "    </tr>\n",
       "  </thead>\n",
       "  <tbody>\n",
       "    <tr>\n",
       "      <th>topic_codes</th>\n",
       "      <td>10000</td>\n",
       "      <td>1163</td>\n",
       "      <td>['C15', 'C152', 'CCAT']</td>\n",
       "      <td>581</td>\n",
       "    </tr>\n",
       "    <tr>\n",
       "      <th>headline</th>\n",
       "      <td>10000</td>\n",
       "      <td>9606</td>\n",
       "      <td>LONDON CURRENCY AND GOLD BULLION RATES.</td>\n",
       "      <td>11</td>\n",
       "    </tr>\n",
       "    <tr>\n",
       "      <th>text</th>\n",
       "      <td>10000</td>\n",
       "      <td>9896</td>\n",
       "      <td>{'p': ['The Belgian central bank said in its d...</td>\n",
       "      <td>3</td>\n",
       "    </tr>\n",
       "  </tbody>\n",
       "</table>\n",
       "</div>"
      ],
      "text/plain": [
       "             count unique                                                top  \\\n",
       "topic_codes  10000   1163                            ['C15', 'C152', 'CCAT']   \n",
       "headline     10000   9606            LONDON CURRENCY AND GOLD BULLION RATES.   \n",
       "text         10000   9896  {'p': ['The Belgian central bank said in its d...   \n",
       "\n",
       "            freq  \n",
       "topic_codes  581  \n",
       "headline      11  \n",
       "text           3  "
      ]
     },
     "execution_count": 15,
     "metadata": {},
     "output_type": "execute_result"
    }
   ],
   "source": [
    "df.describe().transpose()"
   ]
  },
  {
   "cell_type": "code",
   "execution_count": null,
   "metadata": {},
   "outputs": [],
   "source": []
  }
 ],
 "metadata": {
  "kernelspec": {
   "display_name": "py3env",
   "language": "python",
   "name": "py3env"
  },
  "language_info": {
   "codemirror_mode": {
    "name": "ipython",
    "version": 3
   },
   "file_extension": ".py",
   "mimetype": "text/x-python",
   "name": "python",
   "nbconvert_exporter": "python",
   "pygments_lexer": "ipython3",
   "version": "3.6.2"
  }
 },
 "nbformat": 4,
 "nbformat_minor": 2
}
