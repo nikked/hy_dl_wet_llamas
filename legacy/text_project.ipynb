{
 "cells": [
  {
   "cell_type": "markdown",
   "metadata": {},
   "source": [
    "# DATA20001 Deep Learning - Group Project\n",
    "## Text project\n",
    "\n",
    "**Due Thursday, December 13, before 23:59.**\n",
    "\n",
    "The task is to learn to assign the correct labels to news articles.  The corpus contains ~850K articles from Reuters.  The test set is about 10% of the articles. The data is unextracted in XML files.\n",
    "\n",
    "We're only giving you the code for downloading the data, and how to save the final model. The rest you'll have to do yourselves.\n",
    "\n",
    "Some comments and hints particular to the project:\n",
    "\n",
    "- One document may belong to many classes in this problem, i.e., it's a multi-label classification problem. In fact there are documents that don't belong to any class, and you should also be able to handle these correctly. Pay careful attention to how you design the outputs of the network (e.g., what activation to use) and what loss function should be used.\n",
    "- You may use word-embeddings to get better results. For example, you were already using a smaller version of the GloVE  embeddings in exercise 4. Do note that these embeddings take a lot of memory. \n",
    "- In the exercises we used e.g., `torchvision.datasets.MNIST` to handle the loading of the data in suitable batches. Here, you need to handle the dataloading yourself.  The easiest way is probably to create a custom `Dataset`. [See for example here for a tutorial](https://github.com/utkuozbulak/pytorch-custom-dataset-examples)."
   ]
  },
  {
   "cell_type": "code",
   "execution_count": 4,
   "metadata": {},
   "outputs": [],
   "source": [
    "import pandas as pd\n",
    "import json\n",
    "from pprint import pprint"
   ]
  },
  {
   "cell_type": "markdown",
   "metadata": {},
   "source": [
    "###  Data exploring with Pandas"
   ]
  },
  {
   "cell_type": "code",
   "execution_count": 40,
   "metadata": {},
   "outputs": [],
   "source": [
    "reuters_df = pd.DataFrame(columns=['topic_codes', 'headline', 'text'])\n",
    "\n",
    "json_fp = './train/reuters.json'\n",
    "# json_fp = './reuters_sample.json'\n",
    "\n",
    "with open(json_fp, 'r') as file:\n",
    "    reuters_dict = json.load(file)"
   ]
  },
  {
   "cell_type": "code",
   "execution_count": 52,
   "metadata": {},
   "outputs": [
    {
     "name": "stdout",
     "output_type": "stream",
     "text": [
      "1000/299773\n",
      "2000/299773\n",
      "3000/299773\n",
      "4000/299773\n",
      "5000/299773\n",
      "6000/299773\n",
      "7000/299773\n",
      "8000/299773\n",
      "9000/299773\n",
      "10000/299773\n",
      "11000/299773\n",
      "12000/299773\n",
      "13000/299773\n",
      "14000/299773\n",
      "15000/299773\n",
      "16000/299773\n",
      "17000/299773\n",
      "18000/299773\n",
      "19000/299773\n",
      "20000/299773\n"
     ]
    }
   ],
   "source": [
    "df = pd.DataFrame(columns=['codes', 'headline', 'text'])\n",
    "\n",
    "max_depth = 20000\n",
    "dict_length = len(reuters_dict)\n",
    "iter_length = min(max_depth, dict_length)\n",
    "\n",
    "idx = 0\n",
    "for key, content in reuters_dict.items():\n",
    "    \n",
    "    idx+=1\n",
    "    if idx % 1000 == 0:\n",
    "        print(f'{idx}/{iter_length}')\n",
    "        \n",
    "    if idx> max_depth:\n",
    "        break\n",
    "    \n",
    "    raw_text = ''\n",
    "    for paragraph in content['text'].values():\n",
    "        for line in paragraph:\n",
    "            raw_text += f'{line} '    \n",
    "    df.loc[key] = [content['topic_codes'], content['headline'], raw_text]"
   ]
  },
  {
   "cell_type": "code",
   "execution_count": 53,
   "metadata": {},
   "outputs": [
    {
     "data": {
      "text/html": [
       "<div>\n",
       "<style scoped>\n",
       "    .dataframe tbody tr th:only-of-type {\n",
       "        vertical-align: middle;\n",
       "    }\n",
       "\n",
       "    .dataframe tbody tr th {\n",
       "        vertical-align: top;\n",
       "    }\n",
       "\n",
       "    .dataframe thead th {\n",
       "        text-align: right;\n",
       "    }\n",
       "</style>\n",
       "<table border=\"1\" class=\"dataframe\">\n",
       "  <thead>\n",
       "    <tr style=\"text-align: right;\">\n",
       "      <th></th>\n",
       "      <th>codes</th>\n",
       "      <th>headline</th>\n",
       "      <th>text</th>\n",
       "    </tr>\n",
       "  </thead>\n",
       "  <tbody>\n",
       "    <tr>\n",
       "      <th>19970602_632411newsML</th>\n",
       "      <td>[C12, CCAT, GCAT, GCRIM]</td>\n",
       "      <td>Seoul court jails 10 in Hanbo corruption scandal.</td>\n",
       "      <td>A South Korean court on Monday handed lengthy ...</td>\n",
       "    </tr>\n",
       "    <tr>\n",
       "      <th>19970602_630414newsML</th>\n",
       "      <td>[M13, M132, MCAT]</td>\n",
       "      <td>Rouble fixed at 3,370 per mark in Moscow.</td>\n",
       "      <td>The rouble was set at 3,370 to the German mark...</td>\n",
       "    </tr>\n",
       "    <tr>\n",
       "      <th>19970602_629922newsML</th>\n",
       "      <td>[M11, MCAT]</td>\n",
       "      <td>SAKU FALLS ON SUSPENSION FEAR, OTHERS QUIET.</td>\n",
       "      <td>Saku Brewery fell 17 percent on the Tallinn bo...</td>\n",
       "    </tr>\n",
       "    <tr>\n",
       "      <th>19970602_632627newsML</th>\n",
       "      <td>[GSPO]</td>\n",
       "      <td>Coca-Cola's Powerade is NHL choice - WSJ.</td>\n",
       "      <td>Coca-Cola Co's Powerade may soon be the sport ...</td>\n",
       "    </tr>\n",
       "    <tr>\n",
       "      <th>19970602_630308newsML</th>\n",
       "      <td>[C15, C152, CCAT, M11, MCAT]</td>\n",
       "      <td>BUCHAREST BOURSE AVERAGE PRICES UP, VOLUME SLIPS.</td>\n",
       "      <td>The average prices of most Bucharest bourse li...</td>\n",
       "    </tr>\n",
       "  </tbody>\n",
       "</table>\n",
       "</div>"
      ],
      "text/plain": [
       "                                              codes  \\\n",
       "19970602_632411newsML      [C12, CCAT, GCAT, GCRIM]   \n",
       "19970602_630414newsML             [M13, M132, MCAT]   \n",
       "19970602_629922newsML                   [M11, MCAT]   \n",
       "19970602_632627newsML                        [GSPO]   \n",
       "19970602_630308newsML  [C15, C152, CCAT, M11, MCAT]   \n",
       "\n",
       "                                                                headline  \\\n",
       "19970602_632411newsML  Seoul court jails 10 in Hanbo corruption scandal.   \n",
       "19970602_630414newsML          Rouble fixed at 3,370 per mark in Moscow.   \n",
       "19970602_629922newsML       SAKU FALLS ON SUSPENSION FEAR, OTHERS QUIET.   \n",
       "19970602_632627newsML          Coca-Cola's Powerade is NHL choice - WSJ.   \n",
       "19970602_630308newsML  BUCHAREST BOURSE AVERAGE PRICES UP, VOLUME SLIPS.   \n",
       "\n",
       "                                                                    text  \n",
       "19970602_632411newsML  A South Korean court on Monday handed lengthy ...  \n",
       "19970602_630414newsML  The rouble was set at 3,370 to the German mark...  \n",
       "19970602_629922newsML  Saku Brewery fell 17 percent on the Tallinn bo...  \n",
       "19970602_632627newsML  Coca-Cola Co's Powerade may soon be the sport ...  \n",
       "19970602_630308newsML  The average prices of most Bucharest bourse li...  "
      ]
     },
     "execution_count": 53,
     "metadata": {},
     "output_type": "execute_result"
    }
   ],
   "source": [
    "df.head()"
   ]
  },
  {
   "cell_type": "markdown",
   "metadata": {},
   "source": [
    "#### Checking for missing headlines"
   ]
  },
  {
   "cell_type": "code",
   "execution_count": 54,
   "metadata": {},
   "outputs": [
    {
     "data": {
      "text/html": [
       "<div>\n",
       "<style scoped>\n",
       "    .dataframe tbody tr th:only-of-type {\n",
       "        vertical-align: middle;\n",
       "    }\n",
       "\n",
       "    .dataframe tbody tr th {\n",
       "        vertical-align: top;\n",
       "    }\n",
       "\n",
       "    .dataframe thead th {\n",
       "        text-align: right;\n",
       "    }\n",
       "</style>\n",
       "<table border=\"1\" class=\"dataframe\">\n",
       "  <thead>\n",
       "    <tr style=\"text-align: right;\">\n",
       "      <th></th>\n",
       "      <th>codes</th>\n",
       "      <th>headline</th>\n",
       "      <th>text</th>\n",
       "    </tr>\n",
       "  </thead>\n",
       "  <tbody>\n",
       "  </tbody>\n",
       "</table>\n",
       "</div>"
      ],
      "text/plain": [
       "Empty DataFrame\n",
       "Columns: [codes, headline, text]\n",
       "Index: []"
      ]
     },
     "execution_count": 54,
     "metadata": {},
     "output_type": "execute_result"
    }
   ],
   "source": [
    "df[df['headline'].isnull()]"
   ]
  },
  {
   "cell_type": "markdown",
   "metadata": {},
   "source": [
    "#### What are we dealing with?"
   ]
  },
  {
   "cell_type": "code",
   "execution_count": 55,
   "metadata": {},
   "outputs": [
    {
     "data": {
      "text/plain": [
       "count    20000.000000\n",
       "mean        44.717700\n",
       "std          6.629631\n",
       "min         16.000000\n",
       "25%         41.000000\n",
       "50%         46.000000\n",
       "75%         50.000000\n",
       "max        102.000000\n",
       "Name: headline, dtype: float64"
      ]
     },
     "execution_count": 55,
     "metadata": {},
     "output_type": "execute_result"
    }
   ],
   "source": [
    "df.headline.apply(len).describe()"
   ]
  },
  {
   "cell_type": "code",
   "execution_count": 56,
   "metadata": {},
   "outputs": [
    {
     "data": {
      "text/plain": [
       "count    20000.00000\n",
       "mean      1474.28885\n",
       "std       1324.19884\n",
       "min         78.00000\n",
       "25%        605.00000\n",
       "50%       1103.00000\n",
       "75%       1980.25000\n",
       "max      47728.00000\n",
       "Name: text, dtype: float64"
      ]
     },
     "execution_count": 56,
     "metadata": {},
     "output_type": "execute_result"
    }
   ],
   "source": [
    "df.text.apply(len).describe()"
   ]
  },
  {
   "cell_type": "code",
   "execution_count": 57,
   "metadata": {},
   "outputs": [
    {
     "name": "stdout",
     "output_type": "stream",
     "text": [
      "count    20000.00000\n",
      "mean         3.20945\n",
      "std          1.45667\n",
      "min          0.00000\n",
      "25%          2.00000\n",
      "50%          3.00000\n",
      "75%          4.00000\n",
      "max         14.00000\n",
      "Name: codes, dtype: float64\n"
     ]
    },
    {
     "data": {
      "text/plain": [
       "<matplotlib.axes._subplots.AxesSubplot at 0x11b8c9a90>"
      ]
     },
     "execution_count": 57,
     "metadata": {},
     "output_type": "execute_result"
    },
    {
     "data": {
      "image/png": "[encoded data removed]",
      "text/plain": [
       "<matplotlib.figure.Figure at 0x1375b2438>"
      ]
     },
     "metadata": {
      "needs_background": "light"
     },
     "output_type": "display_data"
    }
   ],
   "source": [
    "\n",
    "print(df.codes.apply(len).describe())\n",
    "df.codes.apply(len).hist()"
   ]
  },
  {
   "cell_type": "code",
   "execution_count": 58,
   "metadata": {},
   "outputs": [
    {
     "name": "stdout",
     "output_type": "stream",
     "text": [
      "100\n"
     ]
    }
   ],
   "source": [
    "codesList = df.codes.values\n",
    "codes = []\n",
    "for cs in codesList:\n",
    "    codes += cs\n",
    "print(len(set(codes)))"
   ]
  },
  {
   "cell_type": "markdown",
   "metadata": {},
   "source": [
    "### Pytorch"
   ]
  },
  {
   "cell_type": "code",
   "execution_count": 38,
   "metadata": {},
   "outputs": [],
   "source": [
    "from ReutersDataset import ReutersDataset"
   ]
  },
  {
   "cell_type": "code",
   "execution_count": 39,
   "metadata": {},
   "outputs": [],
   "source": [
    "reuters_dataset = ReutersDataset(json_fp, 1000)\n",
    "\n"
   ]
  },
  {
   "cell_type": "markdown",
   "metadata": {},
   "source": [
    "## Save your model\n",
    "\n",
    "It might be useful to save your model if you want to continue your work later, or use it for inference later."
   ]
  },
  {
   "cell_type": "code",
   "execution_count": null,
   "metadata": {},
   "outputs": [],
   "source": [
    "torch.save(model.state_dict(), 'model.pkl')"
   ]
  },
  {
   "cell_type": "markdown",
   "metadata": {},
   "source": [
    "The model file should now be visible in the \"Home\" screen of the jupyter notebooks interface.  There you should be able to select it and press \"download\".\n",
    "\n",
    "## Download test set\n",
    "\n",
    "The testset will be made available during the last week before the deadline and can be downloaded in the same way as the training set.\n",
    "\n",
    "## Predict for test set\n",
    "\n",
    "You will be asked to return your predictions a separate test set.  These should be returned as a matrix with one row for each test article.  Each row contains a binary prediction for each label, 1 if it's present in the image, and 0 if not. The order of the labels is the order of the label (topic) codes.\n",
    "\n",
    "An example row could like like this if your system predicts the presense of the second and fourth topic:\n",
    "\n",
    "    0 1 0 1 0 0 0 0 0 0 0 0 0 0 ...\n",
    "    \n",
    "If you have the matrix prepared in `y` you can use the following function to save it to a text file."
   ]
  },
  {
   "cell_type": "code",
   "execution_count": null,
   "metadata": {},
   "outputs": [],
   "source": [
    "np.savetxt('results.txt', y, fmt='%d')"
   ]
  },
  {
   "cell_type": "markdown",
   "metadata": {},
   "source": [
    "## Questions\n",
    "\n",
    "* how much data we need per label"
   ]
  },
  {
   "cell_type": "code",
   "execution_count": null,
   "metadata": {},
   "outputs": [],
   "source": []
  }
 ],
 "metadata": {
  "kernelspec": {
   "display_name": "p36",
   "language": "python",
   "name": "p36"
  },
  "language_info": {
   "codemirror_mode": {
    "name": "ipython",
    "version": 3
   },
   "file_extension": ".py",
   "mimetype": "text/x-python",
   "name": "python",
   "nbconvert_exporter": "python",
   "pygments_lexer": "ipython3",
   "version": "3.6.1"
  }
 },
 "nbformat": 4,
 "nbformat_minor": 2
}
